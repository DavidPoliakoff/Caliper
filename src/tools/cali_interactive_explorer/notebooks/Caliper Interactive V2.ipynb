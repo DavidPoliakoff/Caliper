{
 "cells": [
  {
   "cell_type": "code",
   "execution_count": 1,
   "metadata": {},
   "outputs": [
    {
     "name": "stdout",
     "output_type": "stream",
     "text": [
      "Requirement already satisfied: plotly in ./anaconda2/lib/python2.7/site-packages\n",
      "Requirement already satisfied: sh in ./anaconda2/lib/python2.7/site-packages\n",
      "Requirement already satisfied: nbformat>=4.2 in ./anaconda2/lib/python2.7/site-packages (from plotly)\n",
      "Requirement already satisfied: six in ./anaconda2/lib/python2.7/site-packages (from plotly)\n",
      "Requirement already satisfied: decorator>=4.0.6 in ./anaconda2/lib/python2.7/site-packages (from plotly)\n",
      "Requirement already satisfied: requests in ./anaconda2/lib/python2.7/site-packages (from plotly)\n",
      "Requirement already satisfied: pytz in ./anaconda2/lib/python2.7/site-packages (from plotly)\n",
      "Requirement already satisfied: ipython_genutils in ./anaconda2/lib/python2.7/site-packages (from nbformat>=4.2->plotly)\n",
      "Requirement already satisfied: traitlets>=4.1 in ./anaconda2/lib/python2.7/site-packages (from nbformat>=4.2->plotly)\n",
      "Requirement already satisfied: jsonschema!=2.5.0,>=2.4 in ./anaconda2/lib/python2.7/site-packages (from nbformat>=4.2->plotly)\n",
      "Requirement already satisfied: jupyter_core in ./anaconda2/lib/python2.7/site-packages (from nbformat>=4.2->plotly)\n",
      "Requirement already satisfied: chardet<3.1.0,>=3.0.2 in ./anaconda2/lib/python2.7/site-packages (from requests->plotly)\n",
      "Requirement already satisfied: idna<2.7,>=2.5 in ./anaconda2/lib/python2.7/site-packages (from requests->plotly)\n",
      "Requirement already satisfied: urllib3<1.23,>=1.21.1 in ./anaconda2/lib/python2.7/site-packages (from requests->plotly)\n",
      "Requirement already satisfied: certifi>=2017.4.17 in ./anaconda2/lib/python2.7/site-packages (from requests->plotly)\n",
      "Requirement already satisfied: enum34 in ./anaconda2/lib/python2.7/site-packages (from traitlets>=4.1->nbformat>=4.2->plotly)\n",
      "Requirement already satisfied: functools32 in ./anaconda2/lib/python2.7/site-packages (from jsonschema!=2.5.0,>=2.4->nbformat>=4.2->plotly)\n",
      "Processing ./src/caliper/src/tools/cali_interactive_explorer\n",
      "Requirement already up-to-date: pandas in ./anaconda2/lib/python2.7/site-packages (from cali-interactive-explorer==0.1)\n",
      "Requirement already up-to-date: numpy>=1.9.0 in ./anaconda2/lib/python2.7/site-packages (from pandas->cali-interactive-explorer==0.1)\n",
      "Requirement already up-to-date: python-dateutil in ./anaconda2/lib/python2.7/site-packages (from pandas->cali-interactive-explorer==0.1)\n",
      "Requirement already up-to-date: pytz>=2011k in ./anaconda2/lib/python2.7/site-packages (from pandas->cali-interactive-explorer==0.1)\n",
      "Requirement already up-to-date: six>=1.5 in ./anaconda2/lib/python2.7/site-packages (from python-dateutil->pandas->cali-interactive-explorer==0.1)\n",
      "Installing collected packages: cali-interactive-explorer\n",
      "  Found existing installation: cali-interactive-explorer 0.1\n",
      "    Uninstalling cali-interactive-explorer-0.1:\n",
      "      Successfully uninstalled cali-interactive-explorer-0.1\n",
      "  Running setup.py install for cali-interactive-explorer ... \u001b[?25ldone\n",
      "\u001b[?25hSuccessfully installed cali-interactive-explorer-0.1\n",
      "Requirement already satisfied: jupyternotify in ./anaconda2/lib/python2.7/site-packages\n",
      "Requirement already satisfied: ipython in ./anaconda2/lib/python2.7/site-packages (from jupyternotify)\n",
      "Requirement already satisfied: jupyter in ./anaconda2/lib/python2.7/site-packages (from jupyternotify)\n",
      "Requirement already satisfied: setuptools>=18.5 in ./anaconda2/lib/python2.7/site-packages (from ipython->jupyternotify)\n",
      "Requirement already satisfied: decorator in ./anaconda2/lib/python2.7/site-packages (from ipython->jupyternotify)\n",
      "Requirement already satisfied: pickleshare in ./anaconda2/lib/python2.7/site-packages (from ipython->jupyternotify)\n",
      "Requirement already satisfied: simplegeneric>0.8 in ./anaconda2/lib/python2.7/site-packages (from ipython->jupyternotify)\n",
      "Requirement already satisfied: traitlets>=4.2 in ./anaconda2/lib/python2.7/site-packages (from ipython->jupyternotify)\n",
      "Requirement already satisfied: prompt_toolkit<2.0.0,>=1.0.4 in ./anaconda2/lib/python2.7/site-packages (from ipython->jupyternotify)\n",
      "Requirement already satisfied: pygments in ./anaconda2/lib/python2.7/site-packages (from ipython->jupyternotify)\n",
      "Requirement already satisfied: appnope in ./anaconda2/lib/python2.7/site-packages (from ipython->jupyternotify)\n",
      "Requirement already satisfied: pexpect in ./anaconda2/lib/python2.7/site-packages (from ipython->jupyternotify)\n",
      "Requirement already satisfied: backports.shutil_get_terminal_size in ./anaconda2/lib/python2.7/site-packages (from ipython->jupyternotify)\n",
      "Requirement already satisfied: pathlib2 in ./anaconda2/lib/python2.7/site-packages (from ipython->jupyternotify)\n",
      "Requirement already satisfied: nbconvert in ./anaconda2/lib/python2.7/site-packages (from jupyter->jupyternotify)\n",
      "Requirement already satisfied: ipywidgets in ./anaconda2/lib/python2.7/site-packages (from jupyter->jupyternotify)\n",
      "Requirement already satisfied: notebook in ./anaconda2/lib/python2.7/site-packages (from jupyter->jupyternotify)\n",
      "Requirement already satisfied: ipykernel in ./anaconda2/lib/python2.7/site-packages (from jupyter->jupyternotify)\n",
      "Requirement already satisfied: qtconsole in ./anaconda2/lib/python2.7/site-packages (from jupyter->jupyternotify)\n",
      "Requirement already satisfied: jupyter-console in ./anaconda2/lib/python2.7/site-packages (from jupyter->jupyternotify)\n",
      "Requirement already satisfied: ipython_genutils in ./anaconda2/lib/python2.7/site-packages (from traitlets>=4.2->ipython->jupyternotify)\n",
      "Requirement already satisfied: six in ./anaconda2/lib/python2.7/site-packages (from traitlets>=4.2->ipython->jupyternotify)\n",
      "Requirement already satisfied: enum34 in ./anaconda2/lib/python2.7/site-packages (from traitlets>=4.2->ipython->jupyternotify)\n",
      "Requirement already satisfied: wcwidth in ./anaconda2/lib/python2.7/site-packages (from prompt_toolkit<2.0.0,>=1.0.4->ipython->jupyternotify)\n",
      "Requirement already satisfied: scandir in ./anaconda2/lib/python2.7/site-packages (from pathlib2->ipython->jupyternotify)\n",
      "Requirement already satisfied: mistune>=0.7.4 in ./anaconda2/lib/python2.7/site-packages (from nbconvert->jupyter->jupyternotify)\n",
      "Requirement already satisfied: jinja2 in ./anaconda2/lib/python2.7/site-packages (from nbconvert->jupyter->jupyternotify)\n",
      "Requirement already satisfied: jupyter_core in ./anaconda2/lib/python2.7/site-packages (from nbconvert->jupyter->jupyternotify)\n",
      "Requirement already satisfied: nbformat>=4.4 in ./anaconda2/lib/python2.7/site-packages (from nbconvert->jupyter->jupyternotify)\n",
      "Requirement already satisfied: entrypoints>=0.2.2 in ./anaconda2/lib/python2.7/site-packages (from nbconvert->jupyter->jupyternotify)\n",
      "Requirement already satisfied: bleach in ./anaconda2/lib/python2.7/site-packages (from nbconvert->jupyter->jupyternotify)\n",
      "Requirement already satisfied: pandocfilters>=1.4.1 in ./anaconda2/lib/python2.7/site-packages (from nbconvert->jupyter->jupyternotify)\n",
      "Requirement already satisfied: testpath in ./anaconda2/lib/python2.7/site-packages (from nbconvert->jupyter->jupyternotify)\n",
      "Requirement already satisfied: widgetsnbextension~=3.0.0 in ./anaconda2/lib/python2.7/site-packages (from ipywidgets->jupyter->jupyternotify)\n",
      "Requirement already satisfied: jupyter_client in ./anaconda2/lib/python2.7/site-packages (from ipykernel->jupyter->jupyternotify)\n",
      "Requirement already satisfied: tornado>=4.0 in ./anaconda2/lib/python2.7/site-packages (from ipykernel->jupyter->jupyternotify)\n",
      "Requirement already satisfied: MarkupSafe>=0.23 in ./anaconda2/lib/python2.7/site-packages (from jinja2->nbconvert->jupyter->jupyternotify)\n",
      "Requirement already satisfied: jsonschema!=2.5.0,>=2.4 in ./anaconda2/lib/python2.7/site-packages (from nbformat>=4.4->nbconvert->jupyter->jupyternotify)\n",
      "Requirement already satisfied: html5lib>=0.99999999 in ./anaconda2/lib/python2.7/site-packages (from bleach->nbconvert->jupyter->jupyternotify)\n",
      "Requirement already satisfied: pyzmq>=13 in ./anaconda2/lib/python2.7/site-packages (from jupyter_client->ipykernel->jupyter->jupyternotify)\n",
      "Requirement already satisfied: python-dateutil>=2.1 in ./anaconda2/lib/python2.7/site-packages (from jupyter_client->ipykernel->jupyter->jupyternotify)\n",
      "Requirement already satisfied: singledispatch in ./anaconda2/lib/python2.7/site-packages (from tornado>=4.0->ipykernel->jupyter->jupyternotify)\n",
      "Requirement already satisfied: certifi in ./anaconda2/lib/python2.7/site-packages (from tornado>=4.0->ipykernel->jupyter->jupyternotify)\n",
      "Requirement already satisfied: backports_abc>=0.4 in ./anaconda2/lib/python2.7/site-packages (from tornado>=4.0->ipykernel->jupyter->jupyternotify)\n",
      "Requirement already satisfied: functools32 in ./anaconda2/lib/python2.7/site-packages (from jsonschema!=2.5.0,>=2.4->nbformat>=4.4->nbconvert->jupyter->jupyternotify)\n"
     ]
    },
    {
     "name": "stdout",
     "output_type": "stream",
     "text": [
      "Requirement already satisfied: webencodings in ./anaconda2/lib/python2.7/site-packages (from html5lib>=0.99999999->bleach->nbconvert->jupyter->jupyternotify)\r\n"
     ]
    }
   ],
   "source": [
    "!pip install plotly sh\n",
    "!pip install /Users/poliakoff1/src/caliper/src/tools/cali_interactive_explorer --upgrade\n",
    "%config IPCompleter.greedy=True\n",
    "!pip install jupyternotify"
   ]
  },
  {
   "cell_type": "code",
   "execution_count": 2,
   "metadata": {},
   "outputs": [],
   "source": [
    "import cali_interactive_explorer as cali\n"
   ]
  },
  {
   "cell_type": "code",
   "execution_count": 15,
   "metadata": {
    "collapsed": true
   },
   "outputs": [],
   "source": [
    "cali.set_documentation(\"CopyPaste\") # Could be CopyPaste for Notebooks to show what is happening"
   ]
  },
  {
   "cell_type": "code",
   "execution_count": 4,
   "metadata": {},
   "outputs": [
    {
     "data": {
      "text/html": [
       "<script>requirejs.config({paths: { 'plotly': ['https://cdn.plot.ly/plotly-latest.min']},});if(!window.Plotly) {{require(['plotly'],function(plotly) {window.Plotly=plotly;});}}</script>"
      ],
      "text/vnd.plotly.v1+html": [
       "<script>requirejs.config({paths: { 'plotly': ['https://cdn.plot.ly/plotly-latest.min']},});if(!window.Plotly) {{require(['plotly'],function(plotly) {window.Plotly=plotly;});}}</script>"
      ]
     },
     "metadata": {},
     "output_type": "display_data"
    }
   ],
   "source": [
    "# Initialize Plotting utilities\n",
    "from plotly.offline import download_plotlyjs, init_notebook_mode, plot, iplot\n",
    "import plotly.graph_objs as go\n",
    "init_notebook_mode(connected=True)"
   ]
  },
  {
   "cell_type": "code",
   "execution_count": 16,
   "metadata": {},
   "outputs": [
    {
     "name": "stdout",
     "output_type": "stream",
     "text": [
      "query_result = cali.CaliperFrame(\"select time.inclusive.duration,program,run_size GROUP BY program,run_size\",['/Users/poliakoff1/src/caliper/src/tools/cali_interactive_explorer/cali_interactive_explorer/171110-133459_16234_soqJ6T0qUh3E.cali', '/Users/poliakoff1/src/caliper/src/tools/cali_interactive_explorer/cali_interactive_explorer/171110-145318_24842_UbQuW2eEy3bh.cali', '/Users/poliakoff1/src/caliper/src/tools/cali_interactive_explorer/cali_interactive_explorer/171110-145327_24849_dpKGmaq0c4aM.cali', '/Users/poliakoff1/src/caliper/src/tools/cali_interactive_explorer/cali_interactive_explorer/171115-094949_8900_YpNWrOBa7QyP.cali', '/Users/poliakoff1/src/caliper/src/tools/cali_interactive_explorer/cali_interactive_explorer/171115-094959_8918_H1P9vmEZTl6P.cali', '/Users/poliakoff1/src/caliper/src/tools/cali_interactive_explorer/cali_interactive_explorer/171115-095013_8934_38eW20zCkyGL.cali', '/Users/poliakoff1/src/caliper/src/tools/cali_interactive_explorer/cali_interactive_explorer/functional.cali'])\n"
     ]
    },
    {
     "data": {
      "application/vnd.plotly.v1+json": {
       "data": [
        {
         "mode": "lines+markers",
         "name": "./test/hydro1",
         "type": "scatter",
         "x": [
          3,
          5,
          7
         ],
         "y": [
          3005160,
          5001708,
          7000143
         ]
        },
        {
         "mode": "lines+markers",
         "name": "./test/hydro2",
         "type": "scatter",
         "x": [
          3,
          5,
          7
         ],
         "y": [
          6000754,
          10005176,
          14005158
         ]
        }
       ],
       "layout": {
        "showlegend": true,
        "xaxis": {
         "title": "run_size"
        },
        "yaxis": {
         "title": "time.inclusive.duration"
        }
       }
      },
      "text/html": [
       "<div id=\"04c7e6d8-fe2a-4706-bc24-92750d83791d\" style=\"height: 525px; width: 100%;\" class=\"plotly-graph-div\"></div><script type=\"text/javascript\">require([\"plotly\"], function(Plotly) { window.PLOTLYENV=window.PLOTLYENV || {};window.PLOTLYENV.BASE_URL=\"https://plot.ly\";Plotly.newPlot(\"04c7e6d8-fe2a-4706-bc24-92750d83791d\", [{\"y\": [3005160.0, 5001708.0, 7000143.0], \"x\": [3.0, 5.0, 7.0], \"type\": \"scatter\", \"name\": \"./test/hydro1\", \"mode\": \"lines+markers\"}, {\"y\": [6000754.0, 10005176.0, 14005158.0], \"x\": [3.0, 5.0, 7.0], \"type\": \"scatter\", \"name\": \"./test/hydro2\", \"mode\": \"lines+markers\"}], {\"showlegend\": true, \"xaxis\": {\"title\": \"run_size\"}, \"yaxis\": {\"title\": \"time.inclusive.duration\"}}, {\"linkText\": \"Export to plot.ly\", \"showLink\": true})});</script>"
      ],
      "text/vnd.plotly.v1+html": [
       "<div id=\"04c7e6d8-fe2a-4706-bc24-92750d83791d\" style=\"height: 525px; width: 100%;\" class=\"plotly-graph-div\"></div><script type=\"text/javascript\">require([\"plotly\"], function(Plotly) { window.PLOTLYENV=window.PLOTLYENV || {};window.PLOTLYENV.BASE_URL=\"https://plot.ly\";Plotly.newPlot(\"04c7e6d8-fe2a-4706-bc24-92750d83791d\", [{\"y\": [3005160.0, 5001708.0, 7000143.0], \"x\": [3.0, 5.0, 7.0], \"type\": \"scatter\", \"name\": \"./test/hydro1\", \"mode\": \"lines+markers\"}, {\"y\": [6000754.0, 10005176.0, 14005158.0], \"x\": [3.0, 5.0, 7.0], \"type\": \"scatter\", \"name\": \"./test/hydro2\", \"mode\": \"lines+markers\"}], {\"showlegend\": true, \"xaxis\": {\"title\": \"run_size\"}, \"yaxis\": {\"title\": \"time.inclusive.duration\"}}, {\"linkText\": \"Export to plot.ly\", \"showLink\": true})});</script>"
      ]
     },
     "metadata": {},
     "output_type": "display_data"
    }
   ],
   "source": [
    "caliper_data = cali.CaliperFrame(\"select time.inclusive.duration,program,run_size \"\\\n",
    "                                 \"GROUP BY program,run_size\", # Query\n",
    "                                 \"/Users/poliakoff1/src/caliper/src/tools/\"\\\n",
    "                                 \"cali_interactive_explorer/cali_interactive_explorer/*.cali\" # Data Source\n",
    "                                ) \n",
    "graph_this = cali.to_graph(caliper_data)\n",
    "iplot(graph_this)"
   ]
  },
  {
   "cell_type": "code",
   "execution_count": 12,
   "metadata": {},
   "outputs": [
    {
     "data": {
      "application/javascript": [
       "if (!(\"Notification\" in window)) {\n",
       "    alert(\"This browser does not support desktop notifications, so the %%notify magic will not work.\");\n",
       "} else if (Notification.permission !== 'granted' && Notification.permission !== 'denied') {\n",
       "    Notification.requestPermission(function (permission) {\n",
       "        if(!('permission' in Notification)) {\n",
       "            Notification.permission = permission;\n",
       "        }\n",
       "    })\n",
       "}\n"
      ],
      "text/plain": [
       "<IPython.core.display.Javascript object>"
      ]
     },
     "metadata": {},
     "output_type": "display_data"
    },
    {
     "name": "stdout",
     "output_type": "stream",
     "text": [
      "DOG\n"
     ]
    }
   ],
   "source": [
    "import jupyternotify\n",
    "ip = get_ipython()\n",
    "ip.register_magics(jupyternotify.JupyterNotifyMagics)\n",
    "print(\"DOG\")"
   ]
  },
  {
   "cell_type": "code",
   "execution_count": 8,
   "metadata": {},
   "outputs": [
    {
     "ename": "NameError",
     "evalue": "name 'ipython' is not defined",
     "output_type": "error",
     "traceback": [
      "\u001b[0;31m---------------------------------------------------------------------------\u001b[0m",
      "\u001b[0;31mNameError\u001b[0m                                 Traceback (most recent call last)",
      "\u001b[0;32m<ipython-input-8-1fc74be95af0>\u001b[0m in \u001b[0;36m<module>\u001b[0;34m()\u001b[0m\n\u001b[0;32m----> 1\u001b[0;31m \u001b[0mipython\u001b[0m\u001b[0;34m.\u001b[0m\u001b[0mprofile\u001b[0m\u001b[0;34m\u001b[0m\u001b[0m\n\u001b[0m",
      "\u001b[0;31mNameError\u001b[0m: name 'ipython' is not defined"
     ]
    }
   ],
   "source": [
    "ipython.profile"
   ]
  },
  {
   "cell_type": "code",
   "execution_count": 13,
   "metadata": {},
   "outputs": [
    {
     "name": "stdout",
     "output_type": "stream",
     "text": [
      "DOG\n"
     ]
    },
    {
     "data": {
      "application/javascript": [
       "$(document).ready(\n",
       "    function() {\n",
       "        function appendUniqueDiv(){\n",
       "            // append a div with our uuid so we can check that it's already\n",
       "            // been sent and avoid duplicates on page reload\n",
       "            var notifiedDiv = document.createElement(\"div\")\n",
       "            notifiedDiv.id = \"cce411fd-a179-432a-8aa9-519b46742508\"\n",
       "            element.append(notifiedDiv)\n",
       "        }\n",
       "\n",
       "        // only send notifications if the pageload is complete; this will\n",
       "        // help stop extra notifications when a saved notebook is loaded,\n",
       "        // which during testing gives us state \"interactive\", not \"complete\"\n",
       "        if (document.readyState === 'complete') {\n",
       "            // check for the div that signifies that the notification\n",
       "            // was already sent\n",
       "            if (document.getElementById(\"cce411fd-a179-432a-8aa9-519b46742508\") === null) {\n",
       "                var notificationPayload = {\"body\": \"Cell execution has finished!\", \"requireInteraction\": false, \"icon\": \"/static/base/images/favicon.ico\"};\n",
       "                if (Notification.permission !== 'denied') {\n",
       "                    if (Notification.permission !== 'granted') { \n",
       "                        Notification.requestPermission(function (permission) {\n",
       "                            if(!('permission' in Notification)) {\n",
       "                                Notification.permission = permission\n",
       "                            }\n",
       "                        })\n",
       "                    }\n",
       "                    if (Notification.permission === 'granted') {\n",
       "                    var notification = new Notification(\"Jupyter Notebook\", notificationPayload)\n",
       "                    appendUniqueDiv()\n",
       "                    notification.onclick = function () {\n",
       "                        window.focus();\n",
       "                        this.close();\n",
       "                        };\n",
       "                    } \n",
       "                }     \n",
       "            }\n",
       "        }\n",
       "    }\n",
       ")\n"
      ],
      "text/plain": [
       "<IPython.core.display.Javascript object>"
      ]
     },
     "metadata": {},
     "output_type": "display_data"
    }
   ],
   "source": [
    "%%notify\n",
    "import time\n",
    "time.sleep(10)\n",
    "print(\"DOG\")"
   ]
  },
  {
   "cell_type": "code",
   "execution_count": null,
   "metadata": {
    "collapsed": true
   },
   "outputs": [],
   "source": []
  }
 ],
 "metadata": {
  "kernelspec": {
   "display_name": "Python 2",
   "language": "python",
   "name": "python2"
  },
  "language_info": {
   "codemirror_mode": {
    "name": "ipython",
    "version": 2
   },
   "file_extension": ".py",
   "mimetype": "text/x-python",
   "name": "python",
   "nbconvert_exporter": "python",
   "pygments_lexer": "ipython2",
   "version": "2.7.14"
  }
 },
 "nbformat": 4,
 "nbformat_minor": 2
}
