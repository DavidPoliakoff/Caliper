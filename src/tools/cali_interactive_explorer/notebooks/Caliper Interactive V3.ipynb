{
 "cells": [
  {
   "cell_type": "code",
   "execution_count": 1,
   "metadata": {},
   "outputs": [
    {
     "name": "stdout",
     "output_type": "stream",
     "text": [
      "Requirement already satisfied: plotly in ./anaconda2/lib/python2.7/site-packages\n",
      "Requirement already satisfied: sh in ./anaconda2/lib/python2.7/site-packages\n",
      "Requirement already satisfied: ipywidgets in ./anaconda2/lib/python2.7/site-packages\n",
      "Requirement already satisfied: nbformat>=4.2 in ./anaconda2/lib/python2.7/site-packages (from plotly)\n",
      "Requirement already satisfied: six in ./anaconda2/lib/python2.7/site-packages (from plotly)\n",
      "Requirement already satisfied: decorator>=4.0.6 in ./anaconda2/lib/python2.7/site-packages (from plotly)\n",
      "Requirement already satisfied: requests in ./anaconda2/lib/python2.7/site-packages (from plotly)\n",
      "Requirement already satisfied: pytz in ./anaconda2/lib/python2.7/site-packages (from plotly)\n",
      "Requirement already satisfied: ipykernel>=4.5.1 in ./anaconda2/lib/python2.7/site-packages (from ipywidgets)\n",
      "Requirement already satisfied: traitlets>=4.3.1 in ./anaconda2/lib/python2.7/site-packages (from ipywidgets)\n",
      "Requirement already satisfied: widgetsnbextension~=3.0.0 in ./anaconda2/lib/python2.7/site-packages (from ipywidgets)\n",
      "Requirement already satisfied: ipython<6.0.0,>=4.0.0 in ./anaconda2/lib/python2.7/site-packages (from ipywidgets)\n",
      "Requirement already satisfied: ipython_genutils in ./anaconda2/lib/python2.7/site-packages (from nbformat>=4.2->plotly)\n",
      "Requirement already satisfied: jsonschema!=2.5.0,>=2.4 in ./anaconda2/lib/python2.7/site-packages (from nbformat>=4.2->plotly)\n",
      "Requirement already satisfied: jupyter_core in ./anaconda2/lib/python2.7/site-packages (from nbformat>=4.2->plotly)\n",
      "Requirement already satisfied: chardet<3.1.0,>=3.0.2 in ./anaconda2/lib/python2.7/site-packages (from requests->plotly)\n",
      "Requirement already satisfied: idna<2.7,>=2.5 in ./anaconda2/lib/python2.7/site-packages (from requests->plotly)\n",
      "Requirement already satisfied: urllib3<1.23,>=1.21.1 in ./anaconda2/lib/python2.7/site-packages (from requests->plotly)\n",
      "Requirement already satisfied: certifi>=2017.4.17 in ./anaconda2/lib/python2.7/site-packages (from requests->plotly)\n",
      "Requirement already satisfied: jupyter_client in ./anaconda2/lib/python2.7/site-packages (from ipykernel>=4.5.1->ipywidgets)\n",
      "Requirement already satisfied: tornado>=4.0 in ./anaconda2/lib/python2.7/site-packages (from ipykernel>=4.5.1->ipywidgets)\n",
      "Requirement already satisfied: enum34 in ./anaconda2/lib/python2.7/site-packages (from traitlets>=4.3.1->ipywidgets)\n",
      "Requirement already satisfied: notebook>=4.4.1 in ./anaconda2/lib/python2.7/site-packages (from widgetsnbextension~=3.0.0->ipywidgets)\n",
      "Requirement already satisfied: setuptools>=18.5 in ./anaconda2/lib/python2.7/site-packages (from ipython<6.0.0,>=4.0.0->ipywidgets)\n",
      "Requirement already satisfied: pickleshare in ./anaconda2/lib/python2.7/site-packages (from ipython<6.0.0,>=4.0.0->ipywidgets)\n",
      "Requirement already satisfied: simplegeneric>0.8 in ./anaconda2/lib/python2.7/site-packages (from ipython<6.0.0,>=4.0.0->ipywidgets)\n",
      "Requirement already satisfied: prompt_toolkit<2.0.0,>=1.0.4 in ./anaconda2/lib/python2.7/site-packages (from ipython<6.0.0,>=4.0.0->ipywidgets)\n",
      "Requirement already satisfied: pygments in ./anaconda2/lib/python2.7/site-packages (from ipython<6.0.0,>=4.0.0->ipywidgets)\n",
      "Requirement already satisfied: appnope in ./anaconda2/lib/python2.7/site-packages (from ipython<6.0.0,>=4.0.0->ipywidgets)\n",
      "Requirement already satisfied: pexpect in ./anaconda2/lib/python2.7/site-packages (from ipython<6.0.0,>=4.0.0->ipywidgets)\n",
      "Requirement already satisfied: backports.shutil_get_terminal_size in ./anaconda2/lib/python2.7/site-packages (from ipython<6.0.0,>=4.0.0->ipywidgets)\n",
      "Requirement already satisfied: pathlib2 in ./anaconda2/lib/python2.7/site-packages (from ipython<6.0.0,>=4.0.0->ipywidgets)\n",
      "Requirement already satisfied: functools32 in ./anaconda2/lib/python2.7/site-packages (from jsonschema!=2.5.0,>=2.4->nbformat>=4.2->plotly)\n",
      "Requirement already satisfied: pyzmq>=13 in ./anaconda2/lib/python2.7/site-packages (from jupyter_client->ipykernel>=4.5.1->ipywidgets)\n",
      "Requirement already satisfied: python-dateutil>=2.1 in ./anaconda2/lib/python2.7/site-packages (from jupyter_client->ipykernel>=4.5.1->ipywidgets)\n",
      "Requirement already satisfied: singledispatch in ./anaconda2/lib/python2.7/site-packages (from tornado>=4.0->ipykernel>=4.5.1->ipywidgets)\n",
      "Requirement already satisfied: backports_abc>=0.4 in ./anaconda2/lib/python2.7/site-packages (from tornado>=4.0->ipykernel>=4.5.1->ipywidgets)\n",
      "Requirement already satisfied: wcwidth in ./anaconda2/lib/python2.7/site-packages (from prompt_toolkit<2.0.0,>=1.0.4->ipython<6.0.0,>=4.0.0->ipywidgets)\n",
      "Requirement already satisfied: scandir in ./anaconda2/lib/python2.7/site-packages (from pathlib2->ipython<6.0.0,>=4.0.0->ipywidgets)\n",
      "Processing ./src/caliper/src/tools/cali_interactive_explorer\n",
      "Requirement already up-to-date: pandas in ./anaconda2/lib/python2.7/site-packages (from cali-interactive-explorer==0.1)\n",
      "Requirement already up-to-date: numpy>=1.9.0 in ./anaconda2/lib/python2.7/site-packages (from pandas->cali-interactive-explorer==0.1)\n",
      "Requirement already up-to-date: python-dateutil in ./anaconda2/lib/python2.7/site-packages (from pandas->cali-interactive-explorer==0.1)\n",
      "Requirement already up-to-date: pytz>=2011k in ./anaconda2/lib/python2.7/site-packages (from pandas->cali-interactive-explorer==0.1)\n",
      "Requirement already up-to-date: six>=1.5 in ./anaconda2/lib/python2.7/site-packages (from python-dateutil->pandas->cali-interactive-explorer==0.1)\n",
      "Installing collected packages: cali-interactive-explorer\n",
      "  Found existing installation: cali-interactive-explorer 0.1\n",
      "    Uninstalling cali-interactive-explorer-0.1:\n",
      "      Successfully uninstalled cali-interactive-explorer-0.1\n",
      "  Running setup.py install for cali-interactive-explorer ... \u001b[?25ldone\n",
      "\u001b[?25hSuccessfully installed cali-interactive-explorer-0.1\n"
     ]
    }
   ],
   "source": [
    "!pip install plotly sh ipywidgets\n",
    "!pip install /Users/poliakoff1/src/caliper/src/tools/cali_interactive_explorer --upgrade\n",
    "%config IPCompleter.greedy=True"
   ]
  },
  {
   "cell_type": "code",
   "execution_count": 2,
   "metadata": {
    "collapsed": true
   },
   "outputs": [],
   "source": [
    "import cali_interactive_explorer as cali\n"
   ]
  },
  {
   "cell_type": "code",
   "execution_count": 3,
   "metadata": {
    "collapsed": true
   },
   "outputs": [],
   "source": [
    "cali.set_documentation(\"CopyPaste\") # Could be CopyPaste for Notebooks to show what is happening"
   ]
  },
  {
   "cell_type": "code",
   "execution_count": 4,
   "metadata": {},
   "outputs": [
    {
     "data": {
      "text/html": [
       "<script>requirejs.config({paths: { 'plotly': ['https://cdn.plot.ly/plotly-latest.min']},});if(!window.Plotly) {{require(['plotly'],function(plotly) {window.Plotly=plotly;});}}</script>"
      ],
      "text/vnd.plotly.v1+html": [
       "<script>requirejs.config({paths: { 'plotly': ['https://cdn.plot.ly/plotly-latest.min']},});if(!window.Plotly) {{require(['plotly'],function(plotly) {window.Plotly=plotly;});}}</script>"
      ]
     },
     "metadata": {},
     "output_type": "display_data"
    }
   ],
   "source": [
    "# Initialize Plotting utilities\n",
    "from plotly.offline import download_plotlyjs, init_notebook_mode, plot, iplot\n",
    "import ipywidgets as widgets\n",
    "from IPython.display import display, clear_output\n",
    "import plotly.graph_objs as go\n",
    "init_notebook_mode(connected=True)"
   ]
  },
  {
   "cell_type": "code",
   "execution_count": 5,
   "metadata": {},
   "outputs": [
    {
     "ename": "TypeError",
     "evalue": "unsupported operand type(s) for *: 'int' and 'UUID'",
     "output_type": "error",
     "traceback": [
      "\u001b[0;31m---------------------------------------------------------------------------\u001b[0m",
      "\u001b[0;31mTypeError\u001b[0m                                 Traceback (most recent call last)",
      "\u001b[0;32m<ipython-input-5-0ea23f6d9ef9>\u001b[0m in \u001b[0;36m<module>\u001b[0;34m()\u001b[0m\n\u001b[1;32m      1\u001b[0m caliper_data = cali.CaliperFrame(\"select time.inclusive.duration,program,run_size \"                                 \"GROUP BY program,run_size\", # Query\n\u001b[0;32m----> 2\u001b[0;31m                                  \u001b[0;34m\"/Users/poliakoff1/src/caliper/src/tools/\"\u001b[0m\u001b[0;31m\\\u001b[0m\u001b[0;34m\u001b[0m\u001b[0m\n\u001b[0m\u001b[1;32m      3\u001b[0m                                  \u001b[0;34m\"cali_interactive_explorer/cali_interactive_explorer/*.cali\"\u001b[0m \u001b[0;31m# Data Source\u001b[0m\u001b[0;34m\u001b[0m\u001b[0m\n\u001b[1;32m      4\u001b[0m                                 ) \n\u001b[1;32m      5\u001b[0m \u001b[0mgraph_this\u001b[0m \u001b[0;34m=\u001b[0m \u001b[0mcali\u001b[0m\u001b[0;34m.\u001b[0m\u001b[0mto_graph\u001b[0m\u001b[0;34m(\u001b[0m\u001b[0mcaliper_data\u001b[0m\u001b[0;34m)\u001b[0m\u001b[0;34m\u001b[0m\u001b[0m\n",
      "\u001b[0;32m/Users/poliakoff1/anaconda2/lib/python2.7/site-packages/cali_interactive_explorer/__init__.pyc\u001b[0m in \u001b[0;36m__init__\u001b[0;34m(self, query_text, new_inputs, doc_level, **kwargs)\u001b[0m\n\u001b[1;32m    215\u001b[0m             \u001b[0mself\u001b[0m\u001b[0;34m.\u001b[0m\u001b[0minputs\u001b[0m \u001b[0;34m=\u001b[0m \u001b[0mnew_inputs\u001b[0m\u001b[0;34m\u001b[0m\u001b[0m\n\u001b[1;32m    216\u001b[0m         \u001b[0;32melif\u001b[0m \u001b[0mnew_inputs\u001b[0m \u001b[0;32mis\u001b[0m \u001b[0;32mnot\u001b[0m \u001b[0mNone\u001b[0m\u001b[0;34m:\u001b[0m\u001b[0;34m\u001b[0m\u001b[0m\n\u001b[0;32m--> 217\u001b[0;31m             \u001b[0mself\u001b[0m\u001b[0;34m.\u001b[0m\u001b[0minputs\u001b[0m \u001b[0;34m=\u001b[0m \u001b[0mlist\u001b[0m\u001b[0;34m(\u001b[0m\u001b[0mglob\u001b[0m\u001b[0;34m.\u001b[0m\u001b[0mglob\u001b[0m\u001b[0;34m(\u001b[0m\u001b[0mnew_inputs\u001b[0m\u001b[0;34m)\u001b[0m\u001b[0;34m)\u001b[0m\u001b[0;34m\u001b[0m\u001b[0m\n\u001b[0m\u001b[1;32m    218\u001b[0m         \u001b[0mself\u001b[0m\u001b[0;34m.\u001b[0m\u001b[0m_results\u001b[0m \u001b[0;34m=\u001b[0m \u001b[0mNone\u001b[0m\u001b[0;34m\u001b[0m\u001b[0m\n\u001b[1;32m    219\u001b[0m         \u001b[0mself\u001b[0m\u001b[0;34m.\u001b[0m\u001b[0m_documentation\u001b[0m \u001b[0;34m=\u001b[0m \u001b[0mNone\u001b[0m\u001b[0;34m\u001b[0m\u001b[0m\n",
      "\u001b[0;32m/Users/poliakoff1/anaconda2/lib/python2.7/site-packages/cali_interactive_explorer/__init__.pyc\u001b[0m in \u001b[0;36minputs\u001b[0;34m(self, value)\u001b[0m\n\u001b[1;32m    362\u001b[0m             attribute_califrame = CaliperFrame(\"SELECT cali.attribute.name,cali.attribute.type,class.aggregatable\",\n\u001b[1;32m    363\u001b[0m                                                self._inputs, DocumentationType.Off, skip_attributes=True)\n\u001b[0;32m--> 364\u001b[0;31m             \u001b[0mattribute_dataframe\u001b[0m \u001b[0;34m=\u001b[0m \u001b[0mattribute_califrame\u001b[0m\u001b[0;34m.\u001b[0m\u001b[0mrun_query\u001b[0m\u001b[0;34m(\u001b[0m\u001b[0madditional_args\u001b[0m\u001b[0;34m=\u001b[0m\u001b[0;34m[\u001b[0m\u001b[0;34m\"--list-attributes\"\u001b[0m\u001b[0;34m]\u001b[0m\u001b[0;34m)\u001b[0m\u001b[0;34m\u001b[0m\u001b[0m\n\u001b[0m\u001b[1;32m    365\u001b[0m             \u001b[0mself\u001b[0m\u001b[0;34m.\u001b[0m\u001b[0mattributes\u001b[0m \u001b[0;34m=\u001b[0m \u001b[0mprocess_attribute_dataframe\u001b[0m\u001b[0;34m(\u001b[0m\u001b[0mattribute_dataframe\u001b[0m\u001b[0;34m)\u001b[0m\u001b[0;34m\u001b[0m\u001b[0m\n\u001b[1;32m    366\u001b[0m             \u001b[0mself\u001b[0m\u001b[0;34m.\u001b[0m\u001b[0mtime_metric\u001b[0m \u001b[0;34m=\u001b[0m \u001b[0mself\u001b[0m\u001b[0;34m.\u001b[0m\u001b[0mguess_time_metric\u001b[0m\u001b[0;34m(\u001b[0m\u001b[0;34m)\u001b[0m\u001b[0;34m\u001b[0m\u001b[0m\n",
      "\u001b[0;32m/Users/poliakoff1/anaconda2/lib/python2.7/site-packages/cali_interactive_explorer/__init__.pyc\u001b[0m in \u001b[0;36mrun_query\u001b[0;34m(self, **kwargs)\u001b[0m\n\u001b[1;32m    249\u001b[0m             \u001b[0;32mif\u001b[0m \u001b[0;34m\"condense\"\u001b[0m \u001b[0;32min\u001b[0m \u001b[0mkwargs\u001b[0m\u001b[0;34m:\u001b[0m\u001b[0;34m\u001b[0m\u001b[0m\n\u001b[1;32m    250\u001b[0m                 \u001b[0mpanda_frame\u001b[0m \u001b[0;34m=\u001b[0m \u001b[0mcondense_dataframe\u001b[0m\u001b[0;34m(\u001b[0m\u001b[0mpanda_frame\u001b[0m\u001b[0;34m)\u001b[0m\u001b[0;34m\u001b[0m\u001b[0m\n\u001b[0;32m--> 251\u001b[0;31m             \u001b[0mpanda_frame\u001b[0m\u001b[0;34m.\u001b[0m\u001b[0mloc\u001b[0m\u001b[0;34m[\u001b[0m\u001b[0;34m:\u001b[0m\u001b[0;34m,\u001b[0m \u001b[0;34m'cali_primary_key'\u001b[0m\u001b[0;34m]\u001b[0m \u001b[0;34m=\u001b[0m \u001b[0mpandas\u001b[0m\u001b[0;34m.\u001b[0m\u001b[0mSeries\u001b[0m\u001b[0;34m(\u001b[0m\u001b[0;34m[\u001b[0m\u001b[0muuid\u001b[0m\u001b[0;34m.\u001b[0m\u001b[0muuid4\u001b[0m\u001b[0;34m(\u001b[0m\u001b[0;34m)\u001b[0m\u001b[0;34m]\u001b[0m \u001b[0;34m*\u001b[0m \u001b[0mpanda_frame\u001b[0m\u001b[0;34m.\u001b[0m\u001b[0mcount\u001b[0m\u001b[0;34m(\u001b[0m\u001b[0;34m)\u001b[0m\u001b[0;34m,\u001b[0m \u001b[0mindex\u001b[0m\u001b[0;34m=\u001b[0m\u001b[0mpanda_frame\u001b[0m\u001b[0;34m.\u001b[0m\u001b[0mindex\u001b[0m\u001b[0;34m)\u001b[0m\u001b[0;34m\u001b[0m\u001b[0m\n\u001b[0m\u001b[1;32m    252\u001b[0m             \u001b[0mdataframes\u001b[0m\u001b[0;34m.\u001b[0m\u001b[0mappend\u001b[0m\u001b[0;34m(\u001b[0m\u001b[0mpanda_frame\u001b[0m\u001b[0;34m)\u001b[0m\u001b[0;34m\u001b[0m\u001b[0m\n\u001b[1;32m    253\u001b[0m         \u001b[0mfinal_frame\u001b[0m \u001b[0;34m=\u001b[0m \u001b[0mdataframes\u001b[0m\u001b[0;34m[\u001b[0m\u001b[0;36m0\u001b[0m\u001b[0;34m]\u001b[0m\u001b[0;34m\u001b[0m\u001b[0m\n",
      "\u001b[0;32m/Users/poliakoff1/anaconda2/lib/python2.7/site-packages/pandas/core/ops.pyc\u001b[0m in \u001b[0;36mwrapper\u001b[0;34m(left, right, name, na_op)\u001b[0m\n\u001b[1;32m    737\u001b[0m                 \u001b[0mlvalues\u001b[0m \u001b[0;34m=\u001b[0m \u001b[0mlvalues\u001b[0m\u001b[0;34m.\u001b[0m\u001b[0mvalues\u001b[0m\u001b[0;34m\u001b[0m\u001b[0m\n\u001b[1;32m    738\u001b[0m \u001b[0;34m\u001b[0m\u001b[0m\n\u001b[0;32m--> 739\u001b[0;31m         \u001b[0mresult\u001b[0m \u001b[0;34m=\u001b[0m \u001b[0mwrap_results\u001b[0m\u001b[0;34m(\u001b[0m\u001b[0msafe_na_op\u001b[0m\u001b[0;34m(\u001b[0m\u001b[0mlvalues\u001b[0m\u001b[0;34m,\u001b[0m \u001b[0mrvalues\u001b[0m\u001b[0;34m)\u001b[0m\u001b[0;34m)\u001b[0m\u001b[0;34m\u001b[0m\u001b[0m\n\u001b[0m\u001b[1;32m    740\u001b[0m         return construct_result(\n\u001b[1;32m    741\u001b[0m             \u001b[0mleft\u001b[0m\u001b[0;34m,\u001b[0m\u001b[0;34m\u001b[0m\u001b[0m\n",
      "\u001b[0;32m/Users/poliakoff1/anaconda2/lib/python2.7/site-packages/pandas/core/ops.pyc\u001b[0m in \u001b[0;36msafe_na_op\u001b[0;34m(lvalues, rvalues)\u001b[0m\n\u001b[1;32m    698\u001b[0m         \u001b[0;32mtry\u001b[0m\u001b[0;34m:\u001b[0m\u001b[0;34m\u001b[0m\u001b[0m\n\u001b[1;32m    699\u001b[0m             \u001b[0;32mwith\u001b[0m \u001b[0mnp\u001b[0m\u001b[0;34m.\u001b[0m\u001b[0merrstate\u001b[0m\u001b[0;34m(\u001b[0m\u001b[0mall\u001b[0m\u001b[0;34m=\u001b[0m\u001b[0;34m'ignore'\u001b[0m\u001b[0;34m)\u001b[0m\u001b[0;34m:\u001b[0m\u001b[0;34m\u001b[0m\u001b[0m\n\u001b[0;32m--> 700\u001b[0;31m                 \u001b[0;32mreturn\u001b[0m \u001b[0mna_op\u001b[0m\u001b[0;34m(\u001b[0m\u001b[0mlvalues\u001b[0m\u001b[0;34m,\u001b[0m \u001b[0mrvalues\u001b[0m\u001b[0;34m)\u001b[0m\u001b[0;34m\u001b[0m\u001b[0m\n\u001b[0m\u001b[1;32m    701\u001b[0m         \u001b[0;32mexcept\u001b[0m \u001b[0mException\u001b[0m\u001b[0;34m:\u001b[0m\u001b[0;34m\u001b[0m\u001b[0m\n\u001b[1;32m    702\u001b[0m             \u001b[0;32mif\u001b[0m \u001b[0misinstance\u001b[0m\u001b[0;34m(\u001b[0m\u001b[0mrvalues\u001b[0m\u001b[0;34m,\u001b[0m \u001b[0mABCSeries\u001b[0m\u001b[0;34m)\u001b[0m\u001b[0;34m:\u001b[0m\u001b[0;34m\u001b[0m\u001b[0m\n",
      "\u001b[0;32m/Users/poliakoff1/anaconda2/lib/python2.7/site-packages/pandas/core/ops.pyc\u001b[0m in \u001b[0;36mna_op\u001b[0;34m(x, y)\u001b[0m\n\u001b[1;32m    684\u001b[0m                 \u001b[0mresult\u001b[0m \u001b[0;34m=\u001b[0m \u001b[0mnp\u001b[0m\u001b[0;34m.\u001b[0m\u001b[0mempty\u001b[0m\u001b[0;34m(\u001b[0m\u001b[0mlen\u001b[0m\u001b[0;34m(\u001b[0m\u001b[0mx\u001b[0m\u001b[0;34m)\u001b[0m\u001b[0;34m,\u001b[0m \u001b[0mdtype\u001b[0m\u001b[0;34m=\u001b[0m\u001b[0mx\u001b[0m\u001b[0;34m.\u001b[0m\u001b[0mdtype\u001b[0m\u001b[0;34m)\u001b[0m\u001b[0;34m\u001b[0m\u001b[0m\n\u001b[1;32m    685\u001b[0m                 \u001b[0mmask\u001b[0m \u001b[0;34m=\u001b[0m \u001b[0mnotna\u001b[0m\u001b[0;34m(\u001b[0m\u001b[0mx\u001b[0m\u001b[0;34m)\u001b[0m\u001b[0;34m\u001b[0m\u001b[0m\n\u001b[0;32m--> 686\u001b[0;31m                 \u001b[0mresult\u001b[0m\u001b[0;34m[\u001b[0m\u001b[0mmask\u001b[0m\u001b[0;34m]\u001b[0m \u001b[0;34m=\u001b[0m \u001b[0mop\u001b[0m\u001b[0;34m(\u001b[0m\u001b[0mx\u001b[0m\u001b[0;34m[\u001b[0m\u001b[0mmask\u001b[0m\u001b[0;34m]\u001b[0m\u001b[0;34m,\u001b[0m \u001b[0my\u001b[0m\u001b[0;34m)\u001b[0m\u001b[0;34m\u001b[0m\u001b[0m\n\u001b[0m\u001b[1;32m    687\u001b[0m             \u001b[0;32melse\u001b[0m\u001b[0;34m:\u001b[0m\u001b[0;34m\u001b[0m\u001b[0m\n\u001b[1;32m    688\u001b[0m                 raise TypeError(\"{typ} cannot perform the operation \"\n",
      "\u001b[0;31mTypeError\u001b[0m: unsupported operand type(s) for *: 'int' and 'UUID'"
     ]
    }
   ],
   "source": [
    "caliper_data = cali.CaliperFrame(\"select time.inclusive.duration,program,run_size \"\\\n",
    "                                 \"GROUP BY program,run_size\", # Query\n",
    "                                 \"/Users/poliakoff1/src/caliper/src/tools/\"\\\n",
    "                                 \"cali_interactive_explorer/cali_interactive_explorer/*.cali\" # Data Source\n",
    "                                ) \n",
    "graph_this = cali.to_graph(caliper_data)\n",
    "#iplot(graph_this)    \n",
    "df  = caliper_data.attributes\n",
    "df"
   ]
  },
  {
   "cell_type": "code",
   "execution_count": null,
   "metadata": {},
   "outputs": [],
   "source": [
    "df"
   ]
  },
  {
   "cell_type": "code",
   "execution_count": null,
   "metadata": {},
   "outputs": [],
   "source": [
    "# Widget stuff\n",
    "foo =widgets.ToggleButtons(\n",
    "    options = [\"Dogs\", \"Lots of Dogs\"],\n",
    "    description = \"How many?\"\n",
    ")\n",
    "\n",
    "def f(x):\n",
    "    #foo.options = [\"Wut\",\"In\",\"Tarnation\",\"?\"]\n",
    "    print x\n",
    "widgets.interact(f,x=foo)\n"
   ]
  },
  {
   "cell_type": "code",
   "execution_count": null,
   "metadata": {},
   "outputs": [],
   "source": [
    "# Trees, via https://plot.ly/python/network-graphs/\n",
    "import networkx as nx\n",
    "from plotly.graph_objs import Scatter, Line, Marker, Figure, Data, Layout, XAxis, YAxis\n",
    "G=nx.random_geometric_graph(12,0.125)\n",
    "pos=nx.get_node_attributes(G,'pos')\n",
    "\n",
    "dmin=1\n",
    "ncenter=0\n",
    "for n in pos:\n",
    "    x,y=pos[n]\n",
    "    d=(x-0.5)**2+(y-0.5)**2\n",
    "    if d<dmin:\n",
    "        ncenter=n\n",
    "        dmin=d\n",
    "\n",
    "p=nx.single_source_shortest_path_length(G,ncenter)\n",
    "edge_trace = Scatter(\n",
    "    x=[],\n",
    "    y=[],\n",
    "    line=Line(width=0.5,color='#888'),\n",
    "    hoverinfo='none',\n",
    "    mode='lines')\n",
    "\n",
    "for edge in G.edges():\n",
    "    x0, y0 = G.node[edge[0]]['pos']\n",
    "    x1, y1 = G.node[edge[1]]['pos']\n",
    "    edge_trace['x'] += [x0, x1, None]\n",
    "    edge_trace['y'] += [y0, y1, None]\n",
    "\n",
    "node_trace = Scatter(\n",
    "    x=[],\n",
    "    y=[],\n",
    "    text=[],\n",
    "    mode='markers+text',\n",
    "    hoverinfo='text',\n",
    "    textposition=\"bottom\",\n",
    "    marker=Marker(\n",
    "        showscale=True,\n",
    "        # colorscale options\n",
    "        # 'Greys' | 'Greens' | 'Bluered' | 'Hot' | 'Picnic' | 'Portland' |\n",
    "        # Jet' | 'RdBu' | 'Blackbody' | 'Earth' | 'Electric' | 'YIOrRd' | 'YIGnBu'\n",
    "        colorscale='Bluered',\n",
    "        reversescale=False,\n",
    "        color=[],\n",
    "        size=30,\n",
    "        colorbar=dict(\n",
    "            thickness=15,\n",
    "            title='Node Connections',\n",
    "            xanchor='left',\n",
    "            titleside='right'\n",
    "        ),\n",
    "        line=dict(width=2)))\n",
    "annotations=[ dict(\n",
    "                    text=\"Python code: <a href='https://plot.ly/ipython-notebooks/network-graphs/'> https://plot.ly/ipython-notebooks/network-graphs/</a>\",\n",
    "                    showarrow=False,\n",
    "                    xref=\"paper\", yref=\"paper\", x=0.005, y=0.002)]\n",
    "for index,node in enumerate(G.nodes()):\n",
    "    x, y = G.node[node]['pos']\n",
    "    node_trace['x'].append(x)\n",
    "    node_trace['y'].append(y)\n",
    "    node_trace['text'].append(str(index))\n",
    "    \n",
    "\n",
    "#for node, adjacencies in enumerate(G.adjacency_list()):\n",
    "for node,adjacencies in G.adjacency():\n",
    "    node_trace['marker']['color'].append(len(adjacencies))\n",
    "    node_info = '# of connections: '+str(len(adjacencies))\n",
    "    node_trace['text'].append(node_info)\n",
    "\n",
    "\n",
    "fig = Figure(data=Data([edge_trace, node_trace]),\n",
    "             layout=Layout(\n",
    "                title='<br>Network graph made with Python',\n",
    "                titlefont=dict(size=16),\n",
    "                showlegend=False,\n",
    "                hovermode='closest',\n",
    "                margin=dict(b=20,l=5,r=5,t=40),\n",
    "                annotations=annotations,\n",
    "                xaxis=XAxis(showgrid=False, zeroline=False, showticklabels=False),\n",
    "                yaxis=YAxis(showgrid=False, zeroline=False, showticklabels=False)))\n",
    "iplot(fig)"
   ]
  },
  {
   "cell_type": "code",
   "execution_count": null,
   "metadata": {},
   "outputs": [],
   "source": [
    "import plotly.offline as py\n",
    "import plotly.graph_objs as go\n",
    "from plotly.tools import FigureFactory as FF\n",
    "\n",
    "import json\n",
    "import numpy as np\n",
    "import pandas as pd\n",
    "raw = [[100,100,101,101,101,101,101,100,100,100,101,101,102,102,102,102,103,104,103,102,101,101,102,103,104,104,105,107,107,107,108,108,110,110,110,110,110,110,110,110,108,108,108,107,107,108,108,108,108,108,107,107,107,107,106,106,105,105,104,104,103],\n",
    "[101,101,102,102,102,102,102,101,101,101,102,102,103,103,103,103,104,105,104,103,102,102,103,105,106,106,107,109,110,110,110,110,111,112,113,114,116,115,114,112,110,110,110,109,108,109,109,109,109,108,108,108,108,107,107,106,106,105,105,104,104]\n",
    "      ]       \n",
    "df = pd.DataFrame(raw)\n",
    "\n",
    "data = [go.Surface(z=df.values.tolist(), colorscale='Viridis')]\n",
    "\n",
    "layout = go.Layout(\n",
    "    width=800,\n",
    "    height=900,\n",
    "    autosize=False,\n",
    "    margin=dict(t=0, b=0, l=0, r=0),\n",
    "    scene=dict(\n",
    "        xaxis=dict(\n",
    "            gridcolor='rgb(255, 255, 255)',\n",
    "            zerolinecolor='rgb(255, 255, 255)',\n",
    "            showbackground=True,\n",
    "            backgroundcolor='rgb(230, 230,230)'\n",
    "        ),\n",
    "        yaxis=dict(\n",
    "            gridcolor='rgb(255, 255, 255)',\n",
    "            zerolinecolor='rgb(255, 255, 255)',\n",
    "            showbackground=True,\n",
    "            backgroundcolor='rgb(230, 230, 230)'\n",
    "        ),\n",
    "        zaxis=dict(\n",
    "            gridcolor='rgb(255, 255, 255)',\n",
    "            zerolinecolor='rgb(255, 255, 255)',\n",
    "            showbackground=True,\n",
    "            backgroundcolor='rgb(230, 230,230)'\n",
    "        ),\n",
    "        aspectratio = dict(x=1, y=1, z=0.7),\n",
    "        aspectmode = 'manual'\n",
    "    )\n",
    ")\n",
    "\n",
    "updatemenus=list([\n",
    "    dict(\n",
    "        buttons=list([   \n",
    "            dict(\n",
    "                args=['type', 'surface'],\n",
    "                label='3D Surface',\n",
    "                method='restyle'\n",
    "            ),\n",
    "            dict(\n",
    "                args=['type', 'heatmap'],\n",
    "                label='Heatmap',\n",
    "                method='restyle'\n",
    "            )             \n",
    "        ]),\n",
    "        direction = 'down',\n",
    "        pad = {'r': 10, 't': 10},\n",
    "        showactive = True,\n",
    "        x = 0.1,\n",
    "        xanchor = 'left',\n",
    "        y = 1.1,\n",
    "        yanchor = 'top' \n",
    "    ),\n",
    "])\n",
    "\n",
    "annotations = list([\n",
    "    dict(text='Trace type:', x=0, y=1.085, yref='paper', align='left', showarrow=False)\n",
    "])\n",
    "layout['updatemenus'] = updatemenus\n",
    "layout['annotations'] = annotations\n",
    "\n",
    "fig = dict(data=data, layout=layout)\n",
    "py.iplot(fig)"
   ]
  },
  {
   "cell_type": "code",
   "execution_count": null,
   "metadata": {},
   "outputs": [],
   "source": [
    "help(nx.random_geometric_graph)\n"
   ]
  },
  {
   "cell_type": "code",
   "execution_count": null,
   "metadata": {},
   "outputs": [],
   "source": [
    "help(Scatter)"
   ]
  },
  {
   "cell_type": "code",
   "execution_count": null,
   "metadata": {},
   "outputs": [],
   "source": [
    "foo = Scatter()\n",
    "foo.help(\"text\")\n",
    "foo.help(\"mode\")"
   ]
  },
  {
   "cell_type": "code",
   "execution_count": null,
   "metadata": {
    "collapsed": true
   },
   "outputs": [],
   "source": []
  }
 ],
 "metadata": {
  "kernelspec": {
   "display_name": "Python 2",
   "language": "python",
   "name": "python2"
  },
  "language_info": {
   "codemirror_mode": {
    "name": "ipython",
    "version": 2
   },
   "file_extension": ".py",
   "mimetype": "text/x-python",
   "name": "python",
   "nbconvert_exporter": "python",
   "pygments_lexer": "ipython2",
   "version": "2.7.14"
  }
 },
 "nbformat": 4,
 "nbformat_minor": 2
}
