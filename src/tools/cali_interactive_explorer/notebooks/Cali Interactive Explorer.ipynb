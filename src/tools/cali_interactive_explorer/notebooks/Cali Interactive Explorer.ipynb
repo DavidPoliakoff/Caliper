{
 "cells": [
  {
   "cell_type": "code",
   "execution_count": 1,
   "metadata": {},
   "outputs": [
    {
     "name": "stdout",
     "output_type": "stream",
     "text": [
      "Requirement already satisfied: plotly in ./anaconda2/lib/python2.7/site-packages\n",
      "Requirement already satisfied: sh in ./anaconda2/lib/python2.7/site-packages\n",
      "Requirement already satisfied: nbformat>=4.2 in ./anaconda2/lib/python2.7/site-packages (from plotly)\n",
      "Requirement already satisfied: six in ./anaconda2/lib/python2.7/site-packages (from plotly)\n",
      "Requirement already satisfied: decorator>=4.0.6 in ./anaconda2/lib/python2.7/site-packages (from plotly)\n",
      "Requirement already satisfied: requests in ./anaconda2/lib/python2.7/site-packages (from plotly)\n",
      "Requirement already satisfied: pytz in ./anaconda2/lib/python2.7/site-packages (from plotly)\n",
      "Requirement already satisfied: ipython_genutils in ./anaconda2/lib/python2.7/site-packages (from nbformat>=4.2->plotly)\n",
      "Requirement already satisfied: traitlets>=4.1 in ./anaconda2/lib/python2.7/site-packages (from nbformat>=4.2->plotly)\n",
      "Requirement already satisfied: jsonschema!=2.5.0,>=2.4 in ./anaconda2/lib/python2.7/site-packages (from nbformat>=4.2->plotly)\n",
      "Requirement already satisfied: jupyter_core in ./anaconda2/lib/python2.7/site-packages (from nbformat>=4.2->plotly)\n",
      "Requirement already satisfied: chardet<3.1.0,>=3.0.2 in ./anaconda2/lib/python2.7/site-packages (from requests->plotly)\n",
      "Requirement already satisfied: idna<2.7,>=2.5 in ./anaconda2/lib/python2.7/site-packages (from requests->plotly)\n",
      "Requirement already satisfied: urllib3<1.23,>=1.21.1 in ./anaconda2/lib/python2.7/site-packages (from requests->plotly)\n",
      "Requirement already satisfied: certifi>=2017.4.17 in ./anaconda2/lib/python2.7/site-packages (from requests->plotly)\n",
      "Requirement already satisfied: enum34 in ./anaconda2/lib/python2.7/site-packages (from traitlets>=4.1->nbformat>=4.2->plotly)\n",
      "Requirement already satisfied: functools32 in ./anaconda2/lib/python2.7/site-packages (from jsonschema!=2.5.0,>=2.4->nbformat>=4.2->plotly)\n"
     ]
    }
   ],
   "source": [
    "!pip install plotly sh\n",
    "%config IPCompleter.greedy=True"
   ]
  },
  {
   "cell_type": "code",
   "execution_count": 2,
   "metadata": {},
   "outputs": [
    {
     "name": "stdout",
     "output_type": "stream",
     "text": [
      "Processing ./src/caliper/src/tools/cali_interactive_explorer\n",
      "Requirement already up-to-date: pandas in ./anaconda2/lib/python2.7/site-packages (from cali-interactive-explorer==0.1)\n",
      "Requirement already up-to-date: numpy>=1.9.0 in ./anaconda2/lib/python2.7/site-packages (from pandas->cali-interactive-explorer==0.1)\n",
      "Requirement already up-to-date: python-dateutil in ./anaconda2/lib/python2.7/site-packages (from pandas->cali-interactive-explorer==0.1)\n",
      "Requirement already up-to-date: pytz>=2011k in ./anaconda2/lib/python2.7/site-packages (from pandas->cali-interactive-explorer==0.1)\n",
      "Requirement already up-to-date: six>=1.5 in ./anaconda2/lib/python2.7/site-packages (from python-dateutil->pandas->cali-interactive-explorer==0.1)\n",
      "Installing collected packages: cali-interactive-explorer\n",
      "  Found existing installation: cali-interactive-explorer 0.1\n",
      "    Uninstalling cali-interactive-explorer-0.1:\n",
      "      Successfully uninstalled cali-interactive-explorer-0.1\n",
      "  Running setup.py install for cali-interactive-explorer ... \u001b[?25ldone\n",
      "\u001b[?25hSuccessfully installed cali-interactive-explorer-0.1\n"
     ]
    }
   ],
   "source": [
    "!pip install /Users/poliakoff1/src/caliper/src/tools/cali_interactive_explorer --upgrade"
   ]
  },
  {
   "cell_type": "code",
   "execution_count": 3,
   "metadata": {},
   "outputs": [],
   "source": [
    "import cali_interactive_explorer as cali\n",
    "import numpy\n",
    "import pandas"
   ]
  },
  {
   "cell_type": "code",
   "execution_count": 4,
   "metadata": {},
   "outputs": [],
   "source": [
    "cali.set_documentation(\"CopyPaste\")\n",
    "cali.load_data(\"/Users/poliakoff1/src/caliper/src/tools/cali_interactive_explorer/cali_interactive_explorer/*.cali\")"
   ]
  },
  {
   "cell_type": "code",
   "execution_count": 5,
   "metadata": {},
   "outputs": [
    {
     "data": {
      "text/html": [
       "<div>\n",
       "<style scoped>\n",
       "    .dataframe tbody tr th:only-of-type {\n",
       "        vertical-align: middle;\n",
       "    }\n",
       "\n",
       "    .dataframe tbody tr th {\n",
       "        vertical-align: top;\n",
       "    }\n",
       "\n",
       "    .dataframe thead th {\n",
       "        text-align: right;\n",
       "    }\n",
       "</style>\n",
       "<table border=\"1\" class=\"dataframe\">\n",
       "  <thead>\n",
       "    <tr style=\"text-align: right;\">\n",
       "      <th></th>\n",
       "      <th>program</th>\n",
       "      <th>run_size</th>\n",
       "      <th>time.inclusive.duration</th>\n",
       "    </tr>\n",
       "  </thead>\n",
       "  <tbody>\n",
       "    <tr>\n",
       "      <th>0</th>\n",
       "      <td>./test/cali-test</td>\n",
       "      <td>7</td>\n",
       "      <td>7000143</td>\n",
       "    </tr>\n",
       "    <tr>\n",
       "      <th>1</th>\n",
       "      <td>./test/cali-test</td>\n",
       "      <td>3</td>\n",
       "      <td>3005160</td>\n",
       "    </tr>\n",
       "    <tr>\n",
       "      <th>2</th>\n",
       "      <td>./test/cali-test</td>\n",
       "      <td>5</td>\n",
       "      <td>5001708</td>\n",
       "    </tr>\n",
       "  </tbody>\n",
       "</table>\n",
       "</div>"
      ],
      "text/plain": [
       "            program  run_size  time.inclusive.duration\n",
       "0  ./test/cali-test         7                  7000143\n",
       "1  ./test/cali-test         3                  3005160\n",
       "2  ./test/cali-test         5                  5001708"
      ]
     },
     "execution_count": 5,
     "metadata": {},
     "output_type": "execute_result"
    }
   ],
   "source": [
    "foo=cali.query(\"SELECT time.inclusive.duration,run_size,program WHERE time.inclusive.duration,run_size,program\")\n",
    "foo"
   ]
  },
  {
   "cell_type": "code",
   "execution_count": 6,
   "metadata": {},
   "outputs": [
    {
     "data": {
      "text/html": [
       "<script>requirejs.config({paths: { 'plotly': ['https://cdn.plot.ly/plotly-latest.min']},});if(!window.Plotly) {{require(['plotly'],function(plotly) {window.Plotly=plotly;});}}</script>"
      ],
      "text/vnd.plotly.v1+html": [
       "<script>requirejs.config({paths: { 'plotly': ['https://cdn.plot.ly/plotly-latest.min']},});if(!window.Plotly) {{require(['plotly'],function(plotly) {window.Plotly=plotly;});}}</script>"
      ]
     },
     "metadata": {},
     "output_type": "display_data"
    },
    {
     "data": {
      "application/vnd.plotly.v1+json": {
       "data": [
        {
         "type": "scatter",
         "x": [
          7,
          3,
          5
         ],
         "y": [
          7000143,
          3005160,
          5001708
         ]
        }
       ],
       "layout": {}
      },
      "text/html": [
       "<div id=\"cd5ce083-dbfd-4008-a2f4-c1411701fa65\" style=\"height: 525px; width: 100%;\" class=\"plotly-graph-div\"></div><script type=\"text/javascript\">require([\"plotly\"], function(Plotly) { window.PLOTLYENV=window.PLOTLYENV || {};window.PLOTLYENV.BASE_URL=\"https://plot.ly\";Plotly.newPlot(\"cd5ce083-dbfd-4008-a2f4-c1411701fa65\", [{\"y\": [7000143, 3005160, 5001708], \"x\": [7, 3, 5], \"type\": \"scatter\"}], {}, {\"linkText\": \"Export to plot.ly\", \"showLink\": true})});</script>"
      ],
      "text/vnd.plotly.v1+html": [
       "<div id=\"cd5ce083-dbfd-4008-a2f4-c1411701fa65\" style=\"height: 525px; width: 100%;\" class=\"plotly-graph-div\"></div><script type=\"text/javascript\">require([\"plotly\"], function(Plotly) { window.PLOTLYENV=window.PLOTLYENV || {};window.PLOTLYENV.BASE_URL=\"https://plot.ly\";Plotly.newPlot(\"cd5ce083-dbfd-4008-a2f4-c1411701fa65\", [{\"y\": [7000143, 3005160, 5001708], \"x\": [7, 3, 5], \"type\": \"scatter\"}], {}, {\"linkText\": \"Export to plot.ly\", \"showLink\": true})});</script>"
      ]
     },
     "metadata": {},
     "output_type": "display_data"
    }
   ],
   "source": [
    "from plotly.offline import download_plotlyjs, init_notebook_mode, plot, iplot\n",
    "import plotly.graph_objs as go\n",
    "init_notebook_mode(connected=True)\n",
    "data = [\n",
    "    go.Scatter(\n",
    "        x=foo['run_size'],\n",
    "        y=foo['time.inclusive.duration']\n",
    "        \n",
    "    )\n",
    "]\n",
    "iplot(data)"
   ]
  },
  {
   "cell_type": "code",
   "execution_count": 7,
   "metadata": {},
   "outputs": [
    {
     "name": "stdout",
     "output_type": "stream",
     "text": [
      "query_result = cali.CaliperFrame(SELECT cali.attribute.name,cali.attribute.type,class.aggregatable,['/Users/poliakoff1/src/caliper/src/tools/cali_interactive_explorer/cali_interactive_explorer/171110-133459_16234_soqJ6T0qUh3E.cali', '/Users/poliakoff1/src/caliper/src/tools/cali_interactive_explorer/cali_interactive_explorer/171110-145318_24842_UbQuW2eEy3bh.cali', '/Users/poliakoff1/src/caliper/src/tools/cali_interactive_explorer/cali_interactive_explorer/171110-145327_24849_dpKGmaq0c4aM.cali'])\n",
      "None\n"
     ]
    }
   ],
   "source": [
    "frame_obj = cali.CaliperFrame(\"select *\")#,\"/Users/poliakoff1/src/caliper/src/tools/cali_interactive_explorer/cali_interactive_explorer/*.cali\")\n",
    "frame_obj.inputs= \"/Users/poliakoff1/src/caliper/src/tools/cali_interactive_explorer/cali_interactive_explorer/*.cali\"\n",
    "print frame_obj.documentation"
   ]
  },
  {
   "cell_type": "code",
   "execution_count": 8,
   "metadata": {},
   "outputs": [
    {
     "name": "stdout",
     "output_type": "stream",
     "text": [
      "query_result = cali.CaliperFrame(select *,['/Users/poliakoff1/src/caliper/src/tools/cali_interactive_explorer/cali_interactive_explorer/171110-133459_16234_soqJ6T0qUh3E.cali', '/Users/poliakoff1/src/caliper/src/tools/cali_interactive_explorer/cali_interactive_explorer/171110-145318_24842_UbQuW2eEy3bh.cali', '/Users/poliakoff1/src/caliper/src/tools/cali_interactive_explorer/cali_interactive_explorer/171110-145327_24849_dpKGmaq0c4aM.cali'])\n"
     ]
    }
   ],
   "source": [
    "dataframe = frame_obj.results"
   ]
  },
  {
   "cell_type": "code",
   "execution_count": 9,
   "metadata": {},
   "outputs": [
    {
     "data": {
      "text/html": [
       "<div>\n",
       "<style scoped>\n",
       "    .dataframe tbody tr th:only-of-type {\n",
       "        vertical-align: middle;\n",
       "    }\n",
       "\n",
       "    .dataframe tbody tr th {\n",
       "        vertical-align: top;\n",
       "    }\n",
       "\n",
       "    .dataframe thead th {\n",
       "        text-align: right;\n",
       "    }\n",
       "</style>\n",
       "<table border=\"1\" class=\"dataframe\">\n",
       "  <thead>\n",
       "    <tr style=\"text-align: right;\">\n",
       "      <th></th>\n",
       "      <th>cali.caliper.version</th>\n",
       "      <th>cali.event.begin</th>\n",
       "      <th>cali.event.end</th>\n",
       "      <th>event.begin#program</th>\n",
       "      <th>event.begin#run_size</th>\n",
       "      <th>event.end#program</th>\n",
       "      <th>event.end#run_size</th>\n",
       "      <th>program</th>\n",
       "      <th>run_size</th>\n",
       "      <th>time.inclusive.duration</th>\n",
       "    </tr>\n",
       "  </thead>\n",
       "  <tbody>\n",
       "    <tr>\n",
       "      <th>0</th>\n",
       "      <td>1.6.0</td>\n",
       "      <td>356.0</td>\n",
       "      <td>NaN</td>\n",
       "      <td>./test/cali-test</td>\n",
       "      <td>NaN</td>\n",
       "      <td>NaN</td>\n",
       "      <td>NaN</td>\n",
       "      <td>NaN</td>\n",
       "      <td>NaN</td>\n",
       "      <td>NaN</td>\n",
       "    </tr>\n",
       "    <tr>\n",
       "      <th>1</th>\n",
       "      <td>1.6.0</td>\n",
       "      <td>356.0</td>\n",
       "      <td>NaN</td>\n",
       "      <td>./test/cali-test</td>\n",
       "      <td>NaN</td>\n",
       "      <td>NaN</td>\n",
       "      <td>NaN</td>\n",
       "      <td>NaN</td>\n",
       "      <td>NaN</td>\n",
       "      <td>NaN</td>\n",
       "    </tr>\n",
       "    <tr>\n",
       "      <th>2</th>\n",
       "      <td>1.6.0</td>\n",
       "      <td>356.0</td>\n",
       "      <td>NaN</td>\n",
       "      <td>./test/cali-test</td>\n",
       "      <td>NaN</td>\n",
       "      <td>NaN</td>\n",
       "      <td>NaN</td>\n",
       "      <td>NaN</td>\n",
       "      <td>NaN</td>\n",
       "      <td>NaN</td>\n",
       "    </tr>\n",
       "    <tr>\n",
       "      <th>3</th>\n",
       "      <td>1.6.0</td>\n",
       "      <td>370.0</td>\n",
       "      <td>NaN</td>\n",
       "      <td>NaN</td>\n",
       "      <td>3.0</td>\n",
       "      <td>NaN</td>\n",
       "      <td>NaN</td>\n",
       "      <td>./test/cali-test</td>\n",
       "      <td>NaN</td>\n",
       "      <td>NaN</td>\n",
       "    </tr>\n",
       "    <tr>\n",
       "      <th>4</th>\n",
       "      <td>1.6.0</td>\n",
       "      <td>370.0</td>\n",
       "      <td>NaN</td>\n",
       "      <td>NaN</td>\n",
       "      <td>5.0</td>\n",
       "      <td>NaN</td>\n",
       "      <td>NaN</td>\n",
       "      <td>./test/cali-test</td>\n",
       "      <td>NaN</td>\n",
       "      <td>NaN</td>\n",
       "    </tr>\n",
       "    <tr>\n",
       "      <th>5</th>\n",
       "      <td>1.6.0</td>\n",
       "      <td>370.0</td>\n",
       "      <td>NaN</td>\n",
       "      <td>NaN</td>\n",
       "      <td>7.0</td>\n",
       "      <td>NaN</td>\n",
       "      <td>NaN</td>\n",
       "      <td>./test/cali-test</td>\n",
       "      <td>NaN</td>\n",
       "      <td>NaN</td>\n",
       "    </tr>\n",
       "    <tr>\n",
       "      <th>6</th>\n",
       "      <td>1.6.0</td>\n",
       "      <td>NaN</td>\n",
       "      <td>370.0</td>\n",
       "      <td>NaN</td>\n",
       "      <td>NaN</td>\n",
       "      <td>NaN</td>\n",
       "      <td>3.0</td>\n",
       "      <td>./test/cali-test</td>\n",
       "      <td>3.0</td>\n",
       "      <td>3005160.0</td>\n",
       "    </tr>\n",
       "    <tr>\n",
       "      <th>7</th>\n",
       "      <td>1.6.0</td>\n",
       "      <td>NaN</td>\n",
       "      <td>370.0</td>\n",
       "      <td>NaN</td>\n",
       "      <td>NaN</td>\n",
       "      <td>NaN</td>\n",
       "      <td>5.0</td>\n",
       "      <td>./test/cali-test</td>\n",
       "      <td>5.0</td>\n",
       "      <td>5001708.0</td>\n",
       "    </tr>\n",
       "    <tr>\n",
       "      <th>8</th>\n",
       "      <td>1.6.0</td>\n",
       "      <td>NaN</td>\n",
       "      <td>356.0</td>\n",
       "      <td>NaN</td>\n",
       "      <td>NaN</td>\n",
       "      <td>./test/cali-test</td>\n",
       "      <td>NaN</td>\n",
       "      <td>./test/cali-test</td>\n",
       "      <td>NaN</td>\n",
       "      <td>3005277.0</td>\n",
       "    </tr>\n",
       "    <tr>\n",
       "      <th>9</th>\n",
       "      <td>1.6.0</td>\n",
       "      <td>NaN</td>\n",
       "      <td>370.0</td>\n",
       "      <td>NaN</td>\n",
       "      <td>NaN</td>\n",
       "      <td>NaN</td>\n",
       "      <td>7.0</td>\n",
       "      <td>./test/cali-test</td>\n",
       "      <td>7.0</td>\n",
       "      <td>7000143.0</td>\n",
       "    </tr>\n",
       "    <tr>\n",
       "      <th>10</th>\n",
       "      <td>1.6.0</td>\n",
       "      <td>NaN</td>\n",
       "      <td>356.0</td>\n",
       "      <td>NaN</td>\n",
       "      <td>NaN</td>\n",
       "      <td>./test/cali-test</td>\n",
       "      <td>NaN</td>\n",
       "      <td>./test/cali-test</td>\n",
       "      <td>NaN</td>\n",
       "      <td>5001878.0</td>\n",
       "    </tr>\n",
       "    <tr>\n",
       "      <th>11</th>\n",
       "      <td>1.6.0</td>\n",
       "      <td>NaN</td>\n",
       "      <td>356.0</td>\n",
       "      <td>NaN</td>\n",
       "      <td>NaN</td>\n",
       "      <td>./test/cali-test</td>\n",
       "      <td>NaN</td>\n",
       "      <td>./test/cali-test</td>\n",
       "      <td>NaN</td>\n",
       "      <td>7000299.0</td>\n",
       "    </tr>\n",
       "  </tbody>\n",
       "</table>\n",
       "</div>"
      ],
      "text/plain": [
       "   cali.caliper.version  cali.event.begin  cali.event.end event.begin#program  \\\n",
       "0                 1.6.0             356.0             NaN    ./test/cali-test   \n",
       "1                 1.6.0             356.0             NaN    ./test/cali-test   \n",
       "2                 1.6.0             356.0             NaN    ./test/cali-test   \n",
       "3                 1.6.0             370.0             NaN                 NaN   \n",
       "4                 1.6.0             370.0             NaN                 NaN   \n",
       "5                 1.6.0             370.0             NaN                 NaN   \n",
       "6                 1.6.0               NaN           370.0                 NaN   \n",
       "7                 1.6.0               NaN           370.0                 NaN   \n",
       "8                 1.6.0               NaN           356.0                 NaN   \n",
       "9                 1.6.0               NaN           370.0                 NaN   \n",
       "10                1.6.0               NaN           356.0                 NaN   \n",
       "11                1.6.0               NaN           356.0                 NaN   \n",
       "\n",
       "    event.begin#run_size event.end#program  event.end#run_size  \\\n",
       "0                    NaN               NaN                 NaN   \n",
       "1                    NaN               NaN                 NaN   \n",
       "2                    NaN               NaN                 NaN   \n",
       "3                    3.0               NaN                 NaN   \n",
       "4                    5.0               NaN                 NaN   \n",
       "5                    7.0               NaN                 NaN   \n",
       "6                    NaN               NaN                 3.0   \n",
       "7                    NaN               NaN                 5.0   \n",
       "8                    NaN  ./test/cali-test                 NaN   \n",
       "9                    NaN               NaN                 7.0   \n",
       "10                   NaN  ./test/cali-test                 NaN   \n",
       "11                   NaN  ./test/cali-test                 NaN   \n",
       "\n",
       "             program  run_size  time.inclusive.duration  \n",
       "0                NaN       NaN                      NaN  \n",
       "1                NaN       NaN                      NaN  \n",
       "2                NaN       NaN                      NaN  \n",
       "3   ./test/cali-test       NaN                      NaN  \n",
       "4   ./test/cali-test       NaN                      NaN  \n",
       "5   ./test/cali-test       NaN                      NaN  \n",
       "6   ./test/cali-test       3.0                3005160.0  \n",
       "7   ./test/cali-test       5.0                5001708.0  \n",
       "8   ./test/cali-test       NaN                3005277.0  \n",
       "9   ./test/cali-test       7.0                7000143.0  \n",
       "10  ./test/cali-test       NaN                5001878.0  \n",
       "11  ./test/cali-test       NaN                7000299.0  "
      ]
     },
     "execution_count": 9,
     "metadata": {},
     "output_type": "execute_result"
    }
   ],
   "source": [
    "dataframe"
   ]
  },
  {
   "cell_type": "code",
   "execution_count": 10,
   "metadata": {},
   "outputs": [],
   "source": [
    "condensed =cali.condense_dataframe(frame_obj)"
   ]
  },
  {
   "cell_type": "code",
   "execution_count": 11,
   "metadata": {},
   "outputs": [
    {
     "data": {
      "text/html": [
       "<div>\n",
       "<style scoped>\n",
       "    .dataframe tbody tr th:only-of-type {\n",
       "        vertical-align: middle;\n",
       "    }\n",
       "\n",
       "    .dataframe tbody tr th {\n",
       "        vertical-align: top;\n",
       "    }\n",
       "\n",
       "    .dataframe thead th {\n",
       "        text-align: right;\n",
       "    }\n",
       "</style>\n",
       "<table border=\"1\" class=\"dataframe\">\n",
       "  <thead>\n",
       "    <tr style=\"text-align: right;\">\n",
       "      <th></th>\n",
       "      <th>program</th>\n",
       "      <th>run_size</th>\n",
       "      <th>time.inclusive.duration</th>\n",
       "    </tr>\n",
       "  </thead>\n",
       "  <tbody>\n",
       "    <tr>\n",
       "      <th>0</th>\n",
       "      <td>./test/cali-test</td>\n",
       "      <td>3.0</td>\n",
       "      <td>3005160.0</td>\n",
       "    </tr>\n",
       "    <tr>\n",
       "      <th>1</th>\n",
       "      <td>./test/cali-test</td>\n",
       "      <td>5.0</td>\n",
       "      <td>5001708.0</td>\n",
       "    </tr>\n",
       "    <tr>\n",
       "      <th>2</th>\n",
       "      <td>./test/cali-test</td>\n",
       "      <td>7.0</td>\n",
       "      <td>7000143.0</td>\n",
       "    </tr>\n",
       "  </tbody>\n",
       "</table>\n",
       "</div>"
      ],
      "text/plain": [
       "            program  run_size  time.inclusive.duration\n",
       "0  ./test/cali-test       3.0                3005160.0\n",
       "1  ./test/cali-test       5.0                5001708.0\n",
       "2  ./test/cali-test       7.0                7000143.0"
      ]
     },
     "execution_count": 11,
     "metadata": {},
     "output_type": "execute_result"
    }
   ],
   "source": [
    "condensed"
   ]
  },
  {
   "cell_type": "code",
   "execution_count": 12,
   "metadata": {},
   "outputs": [
    {
     "name": "stdout",
     "output_type": "stream",
     "text": [
      "query_result = cali.CaliperFrame(SELECT cali.attribute.name,cali.attribute.type,class.aggregatable,['/Users/poliakoff1/src/caliper/src/tools/cali_interactive_explorer/cali_interactive_explorer/171110-133459_16234_soqJ6T0qUh3E.cali', '/Users/poliakoff1/src/caliper/src/tools/cali_interactive_explorer/cali_interactive_explorer/171110-145318_24842_UbQuW2eEy3bh.cali', '/Users/poliakoff1/src/caliper/src/tools/cali_interactive_explorer/cali_interactive_explorer/171110-145327_24849_dpKGmaq0c4aM.cali'])\n",
      "NNG 1\n"
     ]
    },
    {
     "data": {
      "application/vnd.plotly.v1+json": {
       "data": [
        {
         "mode": "lines+markers",
         "name": "./test/cali-test",
         "type": "scatter",
         "x": [
          3,
          5,
          7
         ],
         "y": [
          3005160,
          5001708,
          7000143
         ]
        }
       ],
       "layout": {
        "showlegend": true
       }
      },
      "text/html": [
       "<div id=\"b72da470-73e8-43f6-a290-432c65c252d1\" style=\"height: 525px; width: 100%;\" class=\"plotly-graph-div\"></div><script type=\"text/javascript\">require([\"plotly\"], function(Plotly) { window.PLOTLYENV=window.PLOTLYENV || {};window.PLOTLYENV.BASE_URL=\"https://plot.ly\";Plotly.newPlot(\"b72da470-73e8-43f6-a290-432c65c252d1\", [{\"y\": [3005160.0, 5001708.0, 7000143.0], \"x\": [3.0, 5.0, 7.0], \"type\": \"scatter\", \"name\": \"./test/cali-test\", \"mode\": \"lines+markers\"}], {\"showlegend\": true}, {\"linkText\": \"Export to plot.ly\", \"showLink\": true})});</script>"
      ],
      "text/vnd.plotly.v1+html": [
       "<div id=\"b72da470-73e8-43f6-a290-432c65c252d1\" style=\"height: 525px; width: 100%;\" class=\"plotly-graph-div\"></div><script type=\"text/javascript\">require([\"plotly\"], function(Plotly) { window.PLOTLYENV=window.PLOTLYENV || {};window.PLOTLYENV.BASE_URL=\"https://plot.ly\";Plotly.newPlot(\"b72da470-73e8-43f6-a290-432c65c252d1\", [{\"y\": [3005160.0, 5001708.0, 7000143.0], \"x\": [3.0, 5.0, 7.0], \"type\": \"scatter\", \"name\": \"./test/cali-test\", \"mode\": \"lines+markers\"}], {\"showlegend\": true}, {\"linkText\": \"Export to plot.ly\", \"showLink\": true})});</script>"
      ]
     },
     "metadata": {},
     "output_type": "display_data"
    }
   ],
   "source": [
    "framey = cali.CaliperFrame(\"select time.inclusive.duration,program,run_size GROUP BY program,run_size\",\"/Users/poliakoff1/src/caliper/src/tools/cali_interactive_explorer/cali_interactive_explorer/*.cali\")\n",
    "cali.set_documentation(\"Off\")\n",
    "out_this = cali.to_graph(framey)\n",
    "iplot(out_this)\n"
   ]
  },
  {
   "cell_type": "code",
   "execution_count": 13,
   "metadata": {},
   "outputs": [
    {
     "data": {
      "text/plain": [
       "['where ', 'group by', 'select']"
      ]
     },
     "execution_count": 13,
     "metadata": {},
     "output_type": "execute_result"
    }
   ],
   "source": [
    "cali.calql_keywords\n"
   ]
  },
  {
   "cell_type": "code",
   "execution_count": 14,
   "metadata": {},
   "outputs": [],
   "source": [
    "query_result = cali.CaliperFrame(\"select *\",['/Users/poliakoff1/src/caliper/src/tools/cali_interactive_explorer/cali_interactive_explorer/171110-133459_16234_soqJ6T0qUh3E.cali', '/Users/poliakoff1/src/caliper/src/tools/cali_interactive_explorer/cali_interactive_explorer/171110-145318_24842_UbQuW2eEy3bh.cali', '/Users/poliakoff1/src/caliper/src/tools/cali_interactive_explorer/cali_interactive_explorer/171110-145327_24849_dpKGmaq0c4aM.cali'])\n"
   ]
  },
  {
   "cell_type": "code",
   "execution_count": 15,
   "metadata": {},
   "outputs": [
    {
     "data": {
      "text/html": [
       "<div>\n",
       "<style scoped>\n",
       "    .dataframe tbody tr th:only-of-type {\n",
       "        vertical-align: middle;\n",
       "    }\n",
       "\n",
       "    .dataframe tbody tr th {\n",
       "        vertical-align: top;\n",
       "    }\n",
       "\n",
       "    .dataframe thead th {\n",
       "        text-align: right;\n",
       "    }\n",
       "</style>\n",
       "<table border=\"1\" class=\"dataframe\">\n",
       "  <thead>\n",
       "    <tr style=\"text-align: right;\">\n",
       "      <th></th>\n",
       "      <th>cali.caliper.version</th>\n",
       "      <th>cali.event.begin</th>\n",
       "      <th>cali.event.end</th>\n",
       "      <th>event.begin#program</th>\n",
       "      <th>event.begin#run_size</th>\n",
       "      <th>event.end#program</th>\n",
       "      <th>event.end#run_size</th>\n",
       "      <th>program</th>\n",
       "      <th>run_size</th>\n",
       "      <th>time.inclusive.duration</th>\n",
       "    </tr>\n",
       "  </thead>\n",
       "  <tbody>\n",
       "    <tr>\n",
       "      <th>0</th>\n",
       "      <td>1.6.0</td>\n",
       "      <td>356.0</td>\n",
       "      <td>NaN</td>\n",
       "      <td>./test/cali-test</td>\n",
       "      <td>NaN</td>\n",
       "      <td>NaN</td>\n",
       "      <td>NaN</td>\n",
       "      <td>NaN</td>\n",
       "      <td>NaN</td>\n",
       "      <td>NaN</td>\n",
       "    </tr>\n",
       "    <tr>\n",
       "      <th>1</th>\n",
       "      <td>1.6.0</td>\n",
       "      <td>356.0</td>\n",
       "      <td>NaN</td>\n",
       "      <td>./test/cali-test</td>\n",
       "      <td>NaN</td>\n",
       "      <td>NaN</td>\n",
       "      <td>NaN</td>\n",
       "      <td>NaN</td>\n",
       "      <td>NaN</td>\n",
       "      <td>NaN</td>\n",
       "    </tr>\n",
       "    <tr>\n",
       "      <th>2</th>\n",
       "      <td>1.6.0</td>\n",
       "      <td>356.0</td>\n",
       "      <td>NaN</td>\n",
       "      <td>./test/cali-test</td>\n",
       "      <td>NaN</td>\n",
       "      <td>NaN</td>\n",
       "      <td>NaN</td>\n",
       "      <td>NaN</td>\n",
       "      <td>NaN</td>\n",
       "      <td>NaN</td>\n",
       "    </tr>\n",
       "    <tr>\n",
       "      <th>3</th>\n",
       "      <td>1.6.0</td>\n",
       "      <td>370.0</td>\n",
       "      <td>NaN</td>\n",
       "      <td>NaN</td>\n",
       "      <td>3.0</td>\n",
       "      <td>NaN</td>\n",
       "      <td>NaN</td>\n",
       "      <td>./test/cali-test</td>\n",
       "      <td>NaN</td>\n",
       "      <td>NaN</td>\n",
       "    </tr>\n",
       "    <tr>\n",
       "      <th>4</th>\n",
       "      <td>1.6.0</td>\n",
       "      <td>370.0</td>\n",
       "      <td>NaN</td>\n",
       "      <td>NaN</td>\n",
       "      <td>7.0</td>\n",
       "      <td>NaN</td>\n",
       "      <td>NaN</td>\n",
       "      <td>./test/cali-test</td>\n",
       "      <td>NaN</td>\n",
       "      <td>NaN</td>\n",
       "    </tr>\n",
       "    <tr>\n",
       "      <th>5</th>\n",
       "      <td>1.6.0</td>\n",
       "      <td>370.0</td>\n",
       "      <td>NaN</td>\n",
       "      <td>NaN</td>\n",
       "      <td>5.0</td>\n",
       "      <td>NaN</td>\n",
       "      <td>NaN</td>\n",
       "      <td>./test/cali-test</td>\n",
       "      <td>NaN</td>\n",
       "      <td>NaN</td>\n",
       "    </tr>\n",
       "    <tr>\n",
       "      <th>6</th>\n",
       "      <td>1.6.0</td>\n",
       "      <td>NaN</td>\n",
       "      <td>370.0</td>\n",
       "      <td>NaN</td>\n",
       "      <td>NaN</td>\n",
       "      <td>NaN</td>\n",
       "      <td>3.0</td>\n",
       "      <td>./test/cali-test</td>\n",
       "      <td>3.0</td>\n",
       "      <td>3005160.0</td>\n",
       "    </tr>\n",
       "    <tr>\n",
       "      <th>7</th>\n",
       "      <td>1.6.0</td>\n",
       "      <td>NaN</td>\n",
       "      <td>370.0</td>\n",
       "      <td>NaN</td>\n",
       "      <td>NaN</td>\n",
       "      <td>NaN</td>\n",
       "      <td>7.0</td>\n",
       "      <td>./test/cali-test</td>\n",
       "      <td>7.0</td>\n",
       "      <td>7000143.0</td>\n",
       "    </tr>\n",
       "    <tr>\n",
       "      <th>8</th>\n",
       "      <td>1.6.0</td>\n",
       "      <td>NaN</td>\n",
       "      <td>370.0</td>\n",
       "      <td>NaN</td>\n",
       "      <td>NaN</td>\n",
       "      <td>NaN</td>\n",
       "      <td>5.0</td>\n",
       "      <td>./test/cali-test</td>\n",
       "      <td>5.0</td>\n",
       "      <td>5001708.0</td>\n",
       "    </tr>\n",
       "    <tr>\n",
       "      <th>9</th>\n",
       "      <td>1.6.0</td>\n",
       "      <td>NaN</td>\n",
       "      <td>356.0</td>\n",
       "      <td>NaN</td>\n",
       "      <td>NaN</td>\n",
       "      <td>./test/cali-test</td>\n",
       "      <td>NaN</td>\n",
       "      <td>./test/cali-test</td>\n",
       "      <td>NaN</td>\n",
       "      <td>3005277.0</td>\n",
       "    </tr>\n",
       "    <tr>\n",
       "      <th>10</th>\n",
       "      <td>1.6.0</td>\n",
       "      <td>NaN</td>\n",
       "      <td>356.0</td>\n",
       "      <td>NaN</td>\n",
       "      <td>NaN</td>\n",
       "      <td>./test/cali-test</td>\n",
       "      <td>NaN</td>\n",
       "      <td>./test/cali-test</td>\n",
       "      <td>NaN</td>\n",
       "      <td>7000299.0</td>\n",
       "    </tr>\n",
       "    <tr>\n",
       "      <th>11</th>\n",
       "      <td>1.6.0</td>\n",
       "      <td>NaN</td>\n",
       "      <td>356.0</td>\n",
       "      <td>NaN</td>\n",
       "      <td>NaN</td>\n",
       "      <td>./test/cali-test</td>\n",
       "      <td>NaN</td>\n",
       "      <td>./test/cali-test</td>\n",
       "      <td>NaN</td>\n",
       "      <td>5001878.0</td>\n",
       "    </tr>\n",
       "  </tbody>\n",
       "</table>\n",
       "</div>"
      ],
      "text/plain": [
       "   cali.caliper.version  cali.event.begin  cali.event.end event.begin#program  \\\n",
       "0                 1.6.0             356.0             NaN    ./test/cali-test   \n",
       "1                 1.6.0             356.0             NaN    ./test/cali-test   \n",
       "2                 1.6.0             356.0             NaN    ./test/cali-test   \n",
       "3                 1.6.0             370.0             NaN                 NaN   \n",
       "4                 1.6.0             370.0             NaN                 NaN   \n",
       "5                 1.6.0             370.0             NaN                 NaN   \n",
       "6                 1.6.0               NaN           370.0                 NaN   \n",
       "7                 1.6.0               NaN           370.0                 NaN   \n",
       "8                 1.6.0               NaN           370.0                 NaN   \n",
       "9                 1.6.0               NaN           356.0                 NaN   \n",
       "10                1.6.0               NaN           356.0                 NaN   \n",
       "11                1.6.0               NaN           356.0                 NaN   \n",
       "\n",
       "    event.begin#run_size event.end#program  event.end#run_size  \\\n",
       "0                    NaN               NaN                 NaN   \n",
       "1                    NaN               NaN                 NaN   \n",
       "2                    NaN               NaN                 NaN   \n",
       "3                    3.0               NaN                 NaN   \n",
       "4                    7.0               NaN                 NaN   \n",
       "5                    5.0               NaN                 NaN   \n",
       "6                    NaN               NaN                 3.0   \n",
       "7                    NaN               NaN                 7.0   \n",
       "8                    NaN               NaN                 5.0   \n",
       "9                    NaN  ./test/cali-test                 NaN   \n",
       "10                   NaN  ./test/cali-test                 NaN   \n",
       "11                   NaN  ./test/cali-test                 NaN   \n",
       "\n",
       "             program  run_size  time.inclusive.duration  \n",
       "0                NaN       NaN                      NaN  \n",
       "1                NaN       NaN                      NaN  \n",
       "2                NaN       NaN                      NaN  \n",
       "3   ./test/cali-test       NaN                      NaN  \n",
       "4   ./test/cali-test       NaN                      NaN  \n",
       "5   ./test/cali-test       NaN                      NaN  \n",
       "6   ./test/cali-test       3.0                3005160.0  \n",
       "7   ./test/cali-test       7.0                7000143.0  \n",
       "8   ./test/cali-test       5.0                5001708.0  \n",
       "9   ./test/cali-test       NaN                3005277.0  \n",
       "10  ./test/cali-test       NaN                7000299.0  \n",
       "11  ./test/cali-test       NaN                5001878.0  "
      ]
     },
     "execution_count": 15,
     "metadata": {},
     "output_type": "execute_result"
    }
   ],
   "source": [
    "query_result.results"
   ]
  },
  {
   "cell_type": "code",
   "execution_count": 16,
   "metadata": {},
   "outputs": [
    {
     "data": {
      "text/plain": [
       "{2}"
      ]
     },
     "execution_count": 16,
     "metadata": {},
     "output_type": "execute_result"
    }
   ],
   "source": [
    "set([3,2])-set([3])"
   ]
  },
  {
   "cell_type": "code",
   "execution_count": null,
   "metadata": {
    "collapsed": true
   },
   "outputs": [],
   "source": []
  }
 ],
 "metadata": {
  "kernelspec": {
   "display_name": "Python 2",
   "language": "python",
   "name": "python2"
  },
  "language_info": {
   "codemirror_mode": {
    "name": "ipython",
    "version": 2
   },
   "file_extension": ".py",
   "mimetype": "text/x-python",
   "name": "python",
   "nbconvert_exporter": "python",
   "pygments_lexer": "ipython2",
   "version": "2.7.14"
  }
 },
 "nbformat": 4,
 "nbformat_minor": 2
}
