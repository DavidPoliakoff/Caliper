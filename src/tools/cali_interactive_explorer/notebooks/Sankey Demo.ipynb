{
 "cells": [
  {
   "cell_type": "code",
   "execution_count": 1,
   "metadata": {
    "scrolled": true
   },
   "outputs": [
    {
     "data": {
      "text/html": [
       "<script>requirejs.config({paths: { 'plotly': ['https://cdn.plot.ly/plotly-latest.min']},});if(!window.Plotly) {{require(['plotly'],function(plotly) {window.Plotly=plotly;});}}</script>"
      ],
      "text/vnd.plotly.v1+html": [
       "<script>requirejs.config({paths: { 'plotly': ['https://cdn.plot.ly/plotly-latest.min']},});if(!window.Plotly) {{require(['plotly'],function(plotly) {window.Plotly=plotly;});}}</script>"
      ]
     },
     "metadata": {},
     "output_type": "display_data"
    }
   ],
   "source": [
    "!pip install plotly sh ipywidgets\n",
    "!pip install /Users/poliakoff1/src/caliper/src/tools/cali_interactive_explorer_stable --upgrade\n",
    "%config IPCompleter.greedy=True\n",
    "# Initialize Plotting utilities\n",
    "from plotly.offline import download_plotlyjs, init_notebook_mode, plot, iplot\n",
    "import ipywidgets as widgets\n",
    "from IPython.display import display, clear_output\n",
    "import plotly.graph_objs as go\n",
    "init_notebook_mode(connected=True)\n",
    "import cali_interactive_explorer as cali"
   ]
  },
  {
   "cell_type": "code",
   "execution_count": 6,
   "metadata": {
    "scrolled": true
   },
   "outputs": [
    {
     "name": "stdout",
     "output_type": "stream",
     "text": [
      "query_result = cali.CaliperFrame(\"SELECT aggregate.sum#time.inclusive.duration,function\",['/Users/poliakoff1/lulesh-aggregate.cali'])\n"
     ]
    }
   ],
   "source": [
    "cali.set_documentation(\"CopyPaste\")\n",
    "sankeys=cali.sankey_plot(\"/Users/poliakoff1/lulesh-aggregate.cali\")"
   ]
  },
  {
   "cell_type": "code",
   "execution_count": 7,
   "metadata": {},
   "outputs": [
    {
     "data": {
      "application/vnd.plotly.v1+json": {
       "data": [
        {
         "domain": {
          "x": [
           0,
           1
          ],
          "y": [
           0,
           1
          ]
         },
         "link": {
          "label": [
           "main/LagrangeLeapFrog",
           "main/TimeIncrement",
           "main/LagrangeLeapFrog/CalcTimeConstraintsForElems",
           "main/LagrangeLeapFrog/LagrangeElements",
           "main/LagrangeLeapFrog/LagrangeNodal",
           "main/LagrangeLeapFrog/CalcTimeConstraintsForElems/CalcCourantConstraintForElems",
           "main/LagrangeLeapFrog/CalcTimeConstraintsForElems/CalcHydroConstraintForElems",
           "main/LagrangeLeapFrog/LagrangeElements/ApplyMaterialPropertiesForElems",
           "main/LagrangeLeapFrog/LagrangeElements/CalcLagrangeElements",
           "main/LagrangeLeapFrog/LagrangeElements/CalcQForElems",
           "main/LagrangeLeapFrog/LagrangeElements/UpdateVolumesForElems",
           "main/LagrangeLeapFrog/LagrangeNodal/CalcForceForNodes",
           "main/LagrangeLeapFrog/LagrangeNodal/CalcVelocityForNodes",
           "main/LagrangeLeapFrog/LagrangeElements/ApplyMaterialPropertiesForElems/EvalEOSForElems",
           "main/LagrangeLeapFrog/LagrangeElements/CalcLagrangeElements/CalcKinematicsForElems",
           "main/LagrangeLeapFrog/LagrangeElements/CalcQForElems/CalcMonotonicQGradientsForElems",
           "main/LagrangeLeapFrog/LagrangeElements/CalcQForElems/CalcMonotonicQRegionForElems",
           "main/LagrangeLeapFrog/LagrangeNodal/CalcForceForNodes/CalcVolumeForceForElems",
           "main/LagrangeLeapFrog/LagrangeElements/ApplyMaterialPropertiesForElems/EvalEOSForElems/CalcEnergyForElems",
           "main/LagrangeLeapFrog/LagrangeElements/ApplyMaterialPropertiesForElems/EvalEOSForElems/CalcSoundSpeedForElems",
           "main/LagrangeLeapFrog/LagrangeNodal/CalcForceForNodes/CalcVolumeForceForElems/CalcHourglassControlForElems",
           "main/LagrangeLeapFrog/LagrangeNodal/CalcForceForNodes/CalcVolumeForceForElems/IntegrateStressForElems",
           "main/LagrangeLeapFrog/LagrangeElements/ApplyMaterialPropertiesForElems/EvalEOSForElems/CalcEnergyForElems/CalcPressureForElems",
           "main/LagrangeLeapFrog/LagrangeNodal/CalcForceForNodes/CalcVolumeForceForElems/CalcHourglassControlForElems/CalcFBHourglassForceForElems"
          ],
          "source": [
           0,
           0,
           1,
           1,
           1,
           3,
           3,
           4,
           4,
           4,
           4,
           5,
           5,
           8,
           9,
           10,
           10,
           12,
           14,
           14,
           18,
           18,
           19,
           21
          ],
          "target": [
           1,
           2,
           3,
           4,
           5,
           6,
           7,
           8,
           9,
           10,
           11,
           12,
           13,
           14,
           15,
           16,
           17,
           18,
           19,
           20,
           21,
           22,
           23,
           24
          ],
          "value": [
           512655,
           116,
           13043,
           191531,
           307703,
           5652,
           4786,
           149728,
           18368,
           22407,
           524,
           303477,
           1552,
           147426,
           14311,
           7884,
           7682,
           45084,
           114865,
           3640,
           30854,
           12896,
           57087,
           18165
          ]
         },
         "node": {
          "color": [
           "rgba(256,0,0,0.5)",
           "rgba(243,12,0,0.5)",
           "rgba(0,255,0,0.5)",
           "rgba(6,249,0,0.5)",
           "rgba(90,165,0,0.5)",
           "rgba(146,109,0,0.5)",
           "rgba(2,253,0,0.5)",
           "rgba(2,253,0,0.5)",
           "rgba(71,184,0,0.5)",
           "rgba(8,247,0,0.5)",
           "rgba(10,245,0,0.5)",
           "rgba(0,255,0,0.5)",
           "rgba(144,111,0,0.5)",
           "rgba(0,255,0,0.5)",
           "rgba(70,185,0,0.5)",
           "rgba(6,249,0,0.5)",
           "rgba(3,252,0,0.5)",
           "rgba(3,252,0,0.5)",
           "rgba(21,234,0,0.5)",
           "rgba(54,201,0,0.5)",
           "rgba(1,254,0,0.5)",
           "rgba(14,241,0,0.5)",
           "rgba(6,249,0,0.5)",
           "rgba(27,228,0,0.5)",
           "rgba(8,247,0,0.5)"
          ],
          "label": [
           "main",
           "LagrangeLeapFrog",
           "TimeIncrement",
           "CalcTimeConstraintsForElems",
           "LagrangeElements",
           "LagrangeNodal",
           "CalcCourantConstraintForElems",
           "CalcHydroConstraintForElems",
           "ApplyMaterialPropertiesForElems",
           "CalcLagrangeElements",
           "CalcQForElems",
           "UpdateVolumesForElems",
           "CalcForceForNodes",
           "CalcVelocityForNodes",
           "EvalEOSForElems",
           "CalcKinematicsForElems",
           "CalcMonotonicQGradientsForElems",
           "CalcMonotonicQRegionForElems",
           "CalcVolumeForceForElems",
           "CalcEnergyForElems",
           "CalcSoundSpeedForElems",
           "CalcHourglassControlForElems",
           "IntegrateStressForElems",
           "CalcPressureForElems",
           "CalcFBHourglassForceForElems"
          ],
          "line": {
           "color": "black",
           "width": 0.5
          },
          "pad": 15,
          "thickness": 15
         },
         "orientation": "h",
         "type": "sankey",
         "valueformat": ".0f",
         "valuesuffix": ""
        }
       ],
       "layout": {
        "font": {
         "size": 10
        },
        "title": "aggregate.sum#time.inclusive.duration"
       }
      },
      "text/html": [
       "<div id=\"7f9b4c9f-f917-40cd-b881-930023197b01\" style=\"height: 525px; width: 100%;\" class=\"plotly-graph-div\"></div><script type=\"text/javascript\">require([\"plotly\"], function(Plotly) { window.PLOTLYENV=window.PLOTLYENV || {};window.PLOTLYENV.BASE_URL=\"https://plot.ly\";Plotly.newPlot(\"7f9b4c9f-f917-40cd-b881-930023197b01\", [{\"node\": {\"color\": [\"rgba(256,0,0,0.5)\", \"rgba(243,12,0,0.5)\", \"rgba(0,255,0,0.5)\", \"rgba(6,249,0,0.5)\", \"rgba(90,165,0,0.5)\", \"rgba(146,109,0,0.5)\", \"rgba(2,253,0,0.5)\", \"rgba(2,253,0,0.5)\", \"rgba(71,184,0,0.5)\", \"rgba(8,247,0,0.5)\", \"rgba(10,245,0,0.5)\", \"rgba(0,255,0,0.5)\", \"rgba(144,111,0,0.5)\", \"rgba(0,255,0,0.5)\", \"rgba(70,185,0,0.5)\", \"rgba(6,249,0,0.5)\", \"rgba(3,252,0,0.5)\", \"rgba(3,252,0,0.5)\", \"rgba(21,234,0,0.5)\", \"rgba(54,201,0,0.5)\", \"rgba(1,254,0,0.5)\", \"rgba(14,241,0,0.5)\", \"rgba(6,249,0,0.5)\", \"rgba(27,228,0,0.5)\", \"rgba(8,247,0,0.5)\"], \"line\": {\"color\": \"black\", \"width\": 0.5}, \"thickness\": 15, \"pad\": 15, \"label\": [\"main\", \"LagrangeLeapFrog\", \"TimeIncrement\", \"CalcTimeConstraintsForElems\", \"LagrangeElements\", \"LagrangeNodal\", \"CalcCourantConstraintForElems\", \"CalcHydroConstraintForElems\", \"ApplyMaterialPropertiesForElems\", \"CalcLagrangeElements\", \"CalcQForElems\", \"UpdateVolumesForElems\", \"CalcForceForNodes\", \"CalcVelocityForNodes\", \"EvalEOSForElems\", \"CalcKinematicsForElems\", \"CalcMonotonicQGradientsForElems\", \"CalcMonotonicQRegionForElems\", \"CalcVolumeForceForElems\", \"CalcEnergyForElems\", \"CalcSoundSpeedForElems\", \"CalcHourglassControlForElems\", \"IntegrateStressForElems\", \"CalcPressureForElems\", \"CalcFBHourglassForceForElems\"]}, \"valueformat\": \".0f\", \"domain\": {\"y\": [0, 1], \"x\": [0, 1]}, \"orientation\": \"h\", \"valuesuffix\": \"\", \"link\": {\"source\": [0, 0, 1, 1, 1, 3, 3, 4, 4, 4, 4, 5, 5, 8, 9, 10, 10, 12, 14, 14, 18, 18, 19, 21], \"target\": [1, 2, 3, 4, 5, 6, 7, 8, 9, 10, 11, 12, 13, 14, 15, 16, 17, 18, 19, 20, 21, 22, 23, 24], \"value\": [512655, 116, 13043, 191531, 307703, 5652, 4786, 149728, 18368, 22407, 524, 303477, 1552, 147426, 14311, 7884, 7682, 45084, 114865, 3640, 30854, 12896, 57087, 18165], \"label\": [\"main/LagrangeLeapFrog\", \"main/TimeIncrement\", \"main/LagrangeLeapFrog/CalcTimeConstraintsForElems\", \"main/LagrangeLeapFrog/LagrangeElements\", \"main/LagrangeLeapFrog/LagrangeNodal\", \"main/LagrangeLeapFrog/CalcTimeConstraintsForElems/CalcCourantConstraintForElems\", \"main/LagrangeLeapFrog/CalcTimeConstraintsForElems/CalcHydroConstraintForElems\", \"main/LagrangeLeapFrog/LagrangeElements/ApplyMaterialPropertiesForElems\", \"main/LagrangeLeapFrog/LagrangeElements/CalcLagrangeElements\", \"main/LagrangeLeapFrog/LagrangeElements/CalcQForElems\", \"main/LagrangeLeapFrog/LagrangeElements/UpdateVolumesForElems\", \"main/LagrangeLeapFrog/LagrangeNodal/CalcForceForNodes\", \"main/LagrangeLeapFrog/LagrangeNodal/CalcVelocityForNodes\", \"main/LagrangeLeapFrog/LagrangeElements/ApplyMaterialPropertiesForElems/EvalEOSForElems\", \"main/LagrangeLeapFrog/LagrangeElements/CalcLagrangeElements/CalcKinematicsForElems\", \"main/LagrangeLeapFrog/LagrangeElements/CalcQForElems/CalcMonotonicQGradientsForElems\", \"main/LagrangeLeapFrog/LagrangeElements/CalcQForElems/CalcMonotonicQRegionForElems\", \"main/LagrangeLeapFrog/LagrangeNodal/CalcForceForNodes/CalcVolumeForceForElems\", \"main/LagrangeLeapFrog/LagrangeElements/ApplyMaterialPropertiesForElems/EvalEOSForElems/CalcEnergyForElems\", \"main/LagrangeLeapFrog/LagrangeElements/ApplyMaterialPropertiesForElems/EvalEOSForElems/CalcSoundSpeedForElems\", \"main/LagrangeLeapFrog/LagrangeNodal/CalcForceForNodes/CalcVolumeForceForElems/CalcHourglassControlForElems\", \"main/LagrangeLeapFrog/LagrangeNodal/CalcForceForNodes/CalcVolumeForceForElems/IntegrateStressForElems\", \"main/LagrangeLeapFrog/LagrangeElements/ApplyMaterialPropertiesForElems/EvalEOSForElems/CalcEnergyForElems/CalcPressureForElems\", \"main/LagrangeLeapFrog/LagrangeNodal/CalcForceForNodes/CalcVolumeForceForElems/CalcHourglassControlForElems/CalcFBHourglassForceForElems\"]}, \"type\": \"sankey\"}], {\"font\": {\"size\": 10}, \"title\": \"aggregate.sum#time.inclusive.duration\"}, {\"linkText\": \"Export to plot.ly\", \"showLink\": true})});</script>"
      ],
      "text/vnd.plotly.v1+html": [
       "<div id=\"7f9b4c9f-f917-40cd-b881-930023197b01\" style=\"height: 525px; width: 100%;\" class=\"plotly-graph-div\"></div><script type=\"text/javascript\">require([\"plotly\"], function(Plotly) { window.PLOTLYENV=window.PLOTLYENV || {};window.PLOTLYENV.BASE_URL=\"https://plot.ly\";Plotly.newPlot(\"7f9b4c9f-f917-40cd-b881-930023197b01\", [{\"node\": {\"color\": [\"rgba(256,0,0,0.5)\", \"rgba(243,12,0,0.5)\", \"rgba(0,255,0,0.5)\", \"rgba(6,249,0,0.5)\", \"rgba(90,165,0,0.5)\", \"rgba(146,109,0,0.5)\", \"rgba(2,253,0,0.5)\", \"rgba(2,253,0,0.5)\", \"rgba(71,184,0,0.5)\", \"rgba(8,247,0,0.5)\", \"rgba(10,245,0,0.5)\", \"rgba(0,255,0,0.5)\", \"rgba(144,111,0,0.5)\", \"rgba(0,255,0,0.5)\", \"rgba(70,185,0,0.5)\", \"rgba(6,249,0,0.5)\", \"rgba(3,252,0,0.5)\", \"rgba(3,252,0,0.5)\", \"rgba(21,234,0,0.5)\", \"rgba(54,201,0,0.5)\", \"rgba(1,254,0,0.5)\", \"rgba(14,241,0,0.5)\", \"rgba(6,249,0,0.5)\", \"rgba(27,228,0,0.5)\", \"rgba(8,247,0,0.5)\"], \"line\": {\"color\": \"black\", \"width\": 0.5}, \"thickness\": 15, \"pad\": 15, \"label\": [\"main\", \"LagrangeLeapFrog\", \"TimeIncrement\", \"CalcTimeConstraintsForElems\", \"LagrangeElements\", \"LagrangeNodal\", \"CalcCourantConstraintForElems\", \"CalcHydroConstraintForElems\", \"ApplyMaterialPropertiesForElems\", \"CalcLagrangeElements\", \"CalcQForElems\", \"UpdateVolumesForElems\", \"CalcForceForNodes\", \"CalcVelocityForNodes\", \"EvalEOSForElems\", \"CalcKinematicsForElems\", \"CalcMonotonicQGradientsForElems\", \"CalcMonotonicQRegionForElems\", \"CalcVolumeForceForElems\", \"CalcEnergyForElems\", \"CalcSoundSpeedForElems\", \"CalcHourglassControlForElems\", \"IntegrateStressForElems\", \"CalcPressureForElems\", \"CalcFBHourglassForceForElems\"]}, \"valueformat\": \".0f\", \"domain\": {\"y\": [0, 1], \"x\": [0, 1]}, \"orientation\": \"h\", \"valuesuffix\": \"\", \"link\": {\"source\": [0, 0, 1, 1, 1, 3, 3, 4, 4, 4, 4, 5, 5, 8, 9, 10, 10, 12, 14, 14, 18, 18, 19, 21], \"target\": [1, 2, 3, 4, 5, 6, 7, 8, 9, 10, 11, 12, 13, 14, 15, 16, 17, 18, 19, 20, 21, 22, 23, 24], \"value\": [512655, 116, 13043, 191531, 307703, 5652, 4786, 149728, 18368, 22407, 524, 303477, 1552, 147426, 14311, 7884, 7682, 45084, 114865, 3640, 30854, 12896, 57087, 18165], \"label\": [\"main/LagrangeLeapFrog\", \"main/TimeIncrement\", \"main/LagrangeLeapFrog/CalcTimeConstraintsForElems\", \"main/LagrangeLeapFrog/LagrangeElements\", \"main/LagrangeLeapFrog/LagrangeNodal\", \"main/LagrangeLeapFrog/CalcTimeConstraintsForElems/CalcCourantConstraintForElems\", \"main/LagrangeLeapFrog/CalcTimeConstraintsForElems/CalcHydroConstraintForElems\", \"main/LagrangeLeapFrog/LagrangeElements/ApplyMaterialPropertiesForElems\", \"main/LagrangeLeapFrog/LagrangeElements/CalcLagrangeElements\", \"main/LagrangeLeapFrog/LagrangeElements/CalcQForElems\", \"main/LagrangeLeapFrog/LagrangeElements/UpdateVolumesForElems\", \"main/LagrangeLeapFrog/LagrangeNodal/CalcForceForNodes\", \"main/LagrangeLeapFrog/LagrangeNodal/CalcVelocityForNodes\", \"main/LagrangeLeapFrog/LagrangeElements/ApplyMaterialPropertiesForElems/EvalEOSForElems\", \"main/LagrangeLeapFrog/LagrangeElements/CalcLagrangeElements/CalcKinematicsForElems\", \"main/LagrangeLeapFrog/LagrangeElements/CalcQForElems/CalcMonotonicQGradientsForElems\", \"main/LagrangeLeapFrog/LagrangeElements/CalcQForElems/CalcMonotonicQRegionForElems\", \"main/LagrangeLeapFrog/LagrangeNodal/CalcForceForNodes/CalcVolumeForceForElems\", \"main/LagrangeLeapFrog/LagrangeElements/ApplyMaterialPropertiesForElems/EvalEOSForElems/CalcEnergyForElems\", \"main/LagrangeLeapFrog/LagrangeElements/ApplyMaterialPropertiesForElems/EvalEOSForElems/CalcSoundSpeedForElems\", \"main/LagrangeLeapFrog/LagrangeNodal/CalcForceForNodes/CalcVolumeForceForElems/CalcHourglassControlForElems\", \"main/LagrangeLeapFrog/LagrangeNodal/CalcForceForNodes/CalcVolumeForceForElems/IntegrateStressForElems\", \"main/LagrangeLeapFrog/LagrangeElements/ApplyMaterialPropertiesForElems/EvalEOSForElems/CalcEnergyForElems/CalcPressureForElems\", \"main/LagrangeLeapFrog/LagrangeNodal/CalcForceForNodes/CalcVolumeForceForElems/CalcHourglassControlForElems/CalcFBHourglassForceForElems\"]}, \"type\": \"sankey\"}], {\"font\": {\"size\": 10}, \"title\": \"aggregate.sum#time.inclusive.duration\"}, {\"linkText\": \"Export to plot.ly\", \"showLink\": true})});</script>"
      ]
     },
     "metadata": {},
     "output_type": "display_data"
    }
   ],
   "source": [
    "iplot(sankeys)"
   ]
  },
  {
   "cell_type": "code",
   "execution_count": 4,
   "metadata": {},
   "outputs": [
    {
     "name": "stdout",
     "output_type": "stream",
     "text": [
      "Help on method __call__ in module sh:\n",
      "\n",
      "__call__(self, *args, **kwargs) method of sh.Command instance\n",
      "\n"
     ]
    }
   ],
   "source": [
    "help(cali.cali_query.__call__)"
   ]
  },
  {
   "cell_type": "code",
   "execution_count": null,
   "metadata": {
    "collapsed": true
   },
   "outputs": [],
   "source": []
  }
 ],
 "metadata": {
  "kernelspec": {
   "display_name": "Python 2",
   "language": "python",
   "name": "python2"
  },
  "language_info": {
   "codemirror_mode": {
    "name": "ipython",
    "version": 2
   },
   "file_extension": ".py",
   "mimetype": "text/x-python",
   "name": "python",
   "nbconvert_exporter": "python",
   "pygments_lexer": "ipython2",
   "version": "2.7.14"
  }
 },
 "nbformat": 4,
 "nbformat_minor": 2
}
