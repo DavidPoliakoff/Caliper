{
 "cells": [
  {
   "cell_type": "code",
   "execution_count": 1,
   "metadata": {
    "scrolled": true
   },
   "outputs": [
    {
     "name": "stdout",
     "output_type": "stream",
     "text": [
      "Requirement already satisfied: plotly in ./anaconda2/lib/python2.7/site-packages\n",
      "Requirement already satisfied: sh in ./anaconda2/lib/python2.7/site-packages\n",
      "Requirement already satisfied: ipywidgets in ./anaconda2/lib/python2.7/site-packages\n",
      "Requirement already satisfied: nbformat>=4.2 in ./anaconda2/lib/python2.7/site-packages (from plotly)\n",
      "Requirement already satisfied: six in ./anaconda2/lib/python2.7/site-packages (from plotly)\n",
      "Requirement already satisfied: decorator>=4.0.6 in ./anaconda2/lib/python2.7/site-packages (from plotly)\n",
      "Requirement already satisfied: requests in ./anaconda2/lib/python2.7/site-packages (from plotly)\n",
      "Requirement already satisfied: pytz in ./anaconda2/lib/python2.7/site-packages (from plotly)\n",
      "Requirement already satisfied: ipykernel>=4.5.1 in ./anaconda2/lib/python2.7/site-packages (from ipywidgets)\n",
      "Requirement already satisfied: traitlets>=4.3.1 in ./anaconda2/lib/python2.7/site-packages (from ipywidgets)\n",
      "Requirement already satisfied: widgetsnbextension~=3.0.0 in ./anaconda2/lib/python2.7/site-packages (from ipywidgets)\n",
      "Requirement already satisfied: ipython<6.0.0,>=4.0.0 in ./anaconda2/lib/python2.7/site-packages (from ipywidgets)\n",
      "Requirement already satisfied: ipython_genutils in ./anaconda2/lib/python2.7/site-packages (from nbformat>=4.2->plotly)\n",
      "Requirement already satisfied: jsonschema!=2.5.0,>=2.4 in ./anaconda2/lib/python2.7/site-packages (from nbformat>=4.2->plotly)\n",
      "Requirement already satisfied: jupyter_core in ./anaconda2/lib/python2.7/site-packages (from nbformat>=4.2->plotly)\n",
      "Requirement already satisfied: chardet<3.1.0,>=3.0.2 in ./anaconda2/lib/python2.7/site-packages (from requests->plotly)\n",
      "Requirement already satisfied: idna<2.7,>=2.5 in ./anaconda2/lib/python2.7/site-packages (from requests->plotly)\n",
      "Requirement already satisfied: urllib3<1.23,>=1.21.1 in ./anaconda2/lib/python2.7/site-packages (from requests->plotly)\n",
      "Requirement already satisfied: certifi>=2017.4.17 in ./anaconda2/lib/python2.7/site-packages (from requests->plotly)\n",
      "Requirement already satisfied: jupyter_client in ./anaconda2/lib/python2.7/site-packages (from ipykernel>=4.5.1->ipywidgets)\n",
      "Requirement already satisfied: tornado>=4.0 in ./anaconda2/lib/python2.7/site-packages (from ipykernel>=4.5.1->ipywidgets)\n",
      "Requirement already satisfied: enum34 in ./anaconda2/lib/python2.7/site-packages (from traitlets>=4.3.1->ipywidgets)\n",
      "Requirement already satisfied: notebook>=4.4.1 in ./anaconda2/lib/python2.7/site-packages (from widgetsnbextension~=3.0.0->ipywidgets)\n",
      "Requirement already satisfied: setuptools>=18.5 in ./anaconda2/lib/python2.7/site-packages (from ipython<6.0.0,>=4.0.0->ipywidgets)\n",
      "Requirement already satisfied: pickleshare in ./anaconda2/lib/python2.7/site-packages (from ipython<6.0.0,>=4.0.0->ipywidgets)\n",
      "Requirement already satisfied: simplegeneric>0.8 in ./anaconda2/lib/python2.7/site-packages (from ipython<6.0.0,>=4.0.0->ipywidgets)\n",
      "Requirement already satisfied: prompt_toolkit<2.0.0,>=1.0.4 in ./anaconda2/lib/python2.7/site-packages (from ipython<6.0.0,>=4.0.0->ipywidgets)\n",
      "Requirement already satisfied: pygments in ./anaconda2/lib/python2.7/site-packages (from ipython<6.0.0,>=4.0.0->ipywidgets)\n",
      "Requirement already satisfied: appnope in ./anaconda2/lib/python2.7/site-packages (from ipython<6.0.0,>=4.0.0->ipywidgets)\n",
      "Requirement already satisfied: pexpect in ./anaconda2/lib/python2.7/site-packages (from ipython<6.0.0,>=4.0.0->ipywidgets)\n",
      "Requirement already satisfied: backports.shutil_get_terminal_size in ./anaconda2/lib/python2.7/site-packages (from ipython<6.0.0,>=4.0.0->ipywidgets)\n",
      "Requirement already satisfied: pathlib2 in ./anaconda2/lib/python2.7/site-packages (from ipython<6.0.0,>=4.0.0->ipywidgets)\n",
      "Requirement already satisfied: functools32 in ./anaconda2/lib/python2.7/site-packages (from jsonschema!=2.5.0,>=2.4->nbformat>=4.2->plotly)\n",
      "Requirement already satisfied: pyzmq>=13 in ./anaconda2/lib/python2.7/site-packages (from jupyter_client->ipykernel>=4.5.1->ipywidgets)\n",
      "Requirement already satisfied: python-dateutil>=2.1 in ./anaconda2/lib/python2.7/site-packages (from jupyter_client->ipykernel>=4.5.1->ipywidgets)\n",
      "Requirement already satisfied: singledispatch in ./anaconda2/lib/python2.7/site-packages (from tornado>=4.0->ipykernel>=4.5.1->ipywidgets)\n",
      "Requirement already satisfied: backports_abc>=0.4 in ./anaconda2/lib/python2.7/site-packages (from tornado>=4.0->ipykernel>=4.5.1->ipywidgets)\n",
      "Requirement already satisfied: wcwidth in ./anaconda2/lib/python2.7/site-packages (from prompt_toolkit<2.0.0,>=1.0.4->ipython<6.0.0,>=4.0.0->ipywidgets)\n",
      "Requirement already satisfied: scandir in ./anaconda2/lib/python2.7/site-packages (from pathlib2->ipython<6.0.0,>=4.0.0->ipywidgets)\n",
      "Processing ./src/caliper/src/tools/cali_interactive_explorer\n",
      "Requirement already up-to-date: pandas in ./anaconda2/lib/python2.7/site-packages (from cali-interactive-explorer==0.1)\n",
      "Requirement already up-to-date: numpy>=1.9.0 in ./anaconda2/lib/python2.7/site-packages (from pandas->cali-interactive-explorer==0.1)\n",
      "Requirement already up-to-date: python-dateutil in ./anaconda2/lib/python2.7/site-packages (from pandas->cali-interactive-explorer==0.1)\n",
      "Requirement already up-to-date: pytz>=2011k in ./anaconda2/lib/python2.7/site-packages (from pandas->cali-interactive-explorer==0.1)\n",
      "Requirement already up-to-date: six>=1.5 in ./anaconda2/lib/python2.7/site-packages (from python-dateutil->pandas->cali-interactive-explorer==0.1)\n",
      "Installing collected packages: cali-interactive-explorer\n",
      "  Found existing installation: cali-interactive-explorer 0.1\n",
      "    Uninstalling cali-interactive-explorer-0.1:\n",
      "      Successfully uninstalled cali-interactive-explorer-0.1\n",
      "  Running setup.py install for cali-interactive-explorer ... \u001b[?25ldone\n",
      "\u001b[?25hSuccessfully installed cali-interactive-explorer-0.1\n"
     ]
    }
   ],
   "source": [
    "!pip install plotly sh ipywidgets\n",
    "!pip install /Users/poliakoff1/src/caliper/src/tools/cali_interactive_explorer --upgrade\n",
    "%config IPCompleter.greedy=True"
   ]
  },
  {
   "cell_type": "code",
   "execution_count": 2,
   "metadata": {},
   "outputs": [
    {
     "name": "stdout",
     "output_type": "stream",
     "text": [
      "DOG\n"
     ]
    }
   ],
   "source": [
    "print(\"DOG\")\n",
    "import cali_interactive_explorer as cali"
   ]
  },
  {
   "cell_type": "code",
   "execution_count": 3,
   "metadata": {
    "collapsed": true
   },
   "outputs": [],
   "source": [
    "cali.set_documentation(\"Off\") # Could be CopyPaste for Notebooks to show what is happening"
   ]
  },
  {
   "cell_type": "code",
   "execution_count": 4,
   "metadata": {},
   "outputs": [
    {
     "data": {
      "text/html": [
       "<script>requirejs.config({paths: { 'plotly': ['https://cdn.plot.ly/plotly-latest.min']},});if(!window.Plotly) {{require(['plotly'],function(plotly) {window.Plotly=plotly;});}}</script>"
      ],
      "text/vnd.plotly.v1+html": [
       "<script>requirejs.config({paths: { 'plotly': ['https://cdn.plot.ly/plotly-latest.min']},});if(!window.Plotly) {{require(['plotly'],function(plotly) {window.Plotly=plotly;});}}</script>"
      ]
     },
     "metadata": {},
     "output_type": "display_data"
    }
   ],
   "source": [
    "# Initialize Plotting utilities\n",
    "from plotly.offline import download_plotlyjs, init_notebook_mode, plot, iplot\n",
    "import ipywidgets as widgets\n",
    "from IPython.display import display, clear_output\n",
    "import plotly.graph_objs as go\n",
    "init_notebook_mode(connected=True)"
   ]
  },
  {
   "cell_type": "code",
   "execution_count": 5,
   "metadata": {},
   "outputs": [
    {
     "name": "stdout",
     "output_type": "stream",
     "text": [
      "{u'aggregate.max#time.duration': {'aggregatable': False, 'type': u'double'}, u'cali.event.attr.ids': {'aggregatable': False, 'type': u'usr'}, 'aggregate.count': {'aggregatable': False, 'type': u'int'}, u'aggregate.sum#time.duration': {'aggregatable': False, 'type': u'double'}, u'function': {'aggregatable': False, 'type': u'string'}, u'aggregate.sum#time.inclusive.duration': {'aggregatable': False, 'type': u'double'}, u'aggregate.max#time.inclusive.duration': {'aggregatable': False, 'type': u'double'}, u'aggregate.min#time.inclusive.duration': {'aggregatable': False, 'type': u'double'}, u'aggregate.min#time.duration': {'aggregatable': False, 'type': u'double'}, u'loop': {'aggregatable': False, 'type': u'string'}}\n"
     ]
    },
    {
     "data": {
      "text/html": [
       "<div>\n",
       "<style scoped>\n",
       "    .dataframe tbody tr th:only-of-type {\n",
       "        vertical-align: middle;\n",
       "    }\n",
       "\n",
       "    .dataframe tbody tr th {\n",
       "        vertical-align: top;\n",
       "    }\n",
       "\n",
       "    .dataframe thead th {\n",
       "        text-align: right;\n",
       "    }\n",
       "</style>\n",
       "<table border=\"1\" class=\"dataframe\">\n",
       "  <thead>\n",
       "    <tr style=\"text-align: right;\">\n",
       "      <th></th>\n",
       "      <th>aggregate.sum#time.inclusive.duration</th>\n",
       "      <th>function</th>\n",
       "    </tr>\n",
       "  </thead>\n",
       "  <tbody>\n",
       "    <tr>\n",
       "      <th>0</th>\n",
       "      <td>30854</td>\n",
       "      <td>main/LagrangeLeapFrog/LagrangeNodal/CalcForceF...</td>\n",
       "    </tr>\n",
       "    <tr>\n",
       "      <th>1</th>\n",
       "      <td>18165</td>\n",
       "      <td>main/LagrangeLeapFrog/LagrangeNodal/CalcForceF...</td>\n",
       "    </tr>\n",
       "    <tr>\n",
       "      <th>2</th>\n",
       "      <td>1552</td>\n",
       "      <td>main/LagrangeLeapFrog/LagrangeNodal/CalcVeloci...</td>\n",
       "    </tr>\n",
       "    <tr>\n",
       "      <th>3</th>\n",
       "      <td>191531</td>\n",
       "      <td>main/LagrangeLeapFrog/LagrangeElements</td>\n",
       "    </tr>\n",
       "    <tr>\n",
       "      <th>4</th>\n",
       "      <td>524</td>\n",
       "      <td>main/LagrangeLeapFrog/LagrangeElements/UpdateV...</td>\n",
       "    </tr>\n",
       "    <tr>\n",
       "      <th>5</th>\n",
       "      <td>18368</td>\n",
       "      <td>main/LagrangeLeapFrog/LagrangeElements/CalcLag...</td>\n",
       "    </tr>\n",
       "    <tr>\n",
       "      <th>6</th>\n",
       "      <td>14311</td>\n",
       "      <td>main/LagrangeLeapFrog/LagrangeElements/CalcLag...</td>\n",
       "    </tr>\n",
       "    <tr>\n",
       "      <th>7</th>\n",
       "      <td>13043</td>\n",
       "      <td>main/LagrangeLeapFrog/CalcTimeConstraintsForElems</td>\n",
       "    </tr>\n",
       "    <tr>\n",
       "      <th>8</th>\n",
       "      <td>5652</td>\n",
       "      <td>main/LagrangeLeapFrog/CalcTimeConstraintsForEl...</td>\n",
       "    </tr>\n",
       "    <tr>\n",
       "      <th>9</th>\n",
       "      <td>22407</td>\n",
       "      <td>main/LagrangeLeapFrog/LagrangeElements/CalcQFo...</td>\n",
       "    </tr>\n",
       "    <tr>\n",
       "      <th>10</th>\n",
       "      <td>4786</td>\n",
       "      <td>main/LagrangeLeapFrog/CalcTimeConstraintsForEl...</td>\n",
       "    </tr>\n",
       "    <tr>\n",
       "      <th>11</th>\n",
       "      <td>7884</td>\n",
       "      <td>main/LagrangeLeapFrog/LagrangeElements/CalcQFo...</td>\n",
       "    </tr>\n",
       "    <tr>\n",
       "      <th>12</th>\n",
       "      <td>7682</td>\n",
       "      <td>main/LagrangeLeapFrog/LagrangeElements/CalcQFo...</td>\n",
       "    </tr>\n",
       "    <tr>\n",
       "      <th>13</th>\n",
       "      <td>538854</td>\n",
       "      <td>main</td>\n",
       "    </tr>\n",
       "    <tr>\n",
       "      <th>14</th>\n",
       "      <td>149728</td>\n",
       "      <td>main/LagrangeLeapFrog/LagrangeElements/ApplyMa...</td>\n",
       "    </tr>\n",
       "    <tr>\n",
       "      <th>15</th>\n",
       "      <td>147426</td>\n",
       "      <td>main/LagrangeLeapFrog/LagrangeElements/ApplyMa...</td>\n",
       "    </tr>\n",
       "    <tr>\n",
       "      <th>16</th>\n",
       "      <td>513105</td>\n",
       "      <td>main</td>\n",
       "    </tr>\n",
       "    <tr>\n",
       "      <th>17</th>\n",
       "      <td>114865</td>\n",
       "      <td>main/LagrangeLeapFrog/LagrangeElements/ApplyMa...</td>\n",
       "    </tr>\n",
       "    <tr>\n",
       "      <th>18</th>\n",
       "      <td>116</td>\n",
       "      <td>main/TimeIncrement</td>\n",
       "    </tr>\n",
       "    <tr>\n",
       "      <th>19</th>\n",
       "      <td>57087</td>\n",
       "      <td>main/LagrangeLeapFrog/LagrangeElements/ApplyMa...</td>\n",
       "    </tr>\n",
       "    <tr>\n",
       "      <th>20</th>\n",
       "      <td>3640</td>\n",
       "      <td>main/LagrangeLeapFrog/LagrangeElements/ApplyMa...</td>\n",
       "    </tr>\n",
       "    <tr>\n",
       "      <th>21</th>\n",
       "      <td>512655</td>\n",
       "      <td>main/LagrangeLeapFrog</td>\n",
       "    </tr>\n",
       "    <tr>\n",
       "      <th>22</th>\n",
       "      <td>307703</td>\n",
       "      <td>main/LagrangeLeapFrog/LagrangeNodal</td>\n",
       "    </tr>\n",
       "    <tr>\n",
       "      <th>23</th>\n",
       "      <td>303477</td>\n",
       "      <td>main/LagrangeLeapFrog/LagrangeNodal/CalcForceF...</td>\n",
       "    </tr>\n",
       "    <tr>\n",
       "      <th>24</th>\n",
       "      <td>45084</td>\n",
       "      <td>main/LagrangeLeapFrog/LagrangeNodal/CalcForceF...</td>\n",
       "    </tr>\n",
       "    <tr>\n",
       "      <th>25</th>\n",
       "      <td>12896</td>\n",
       "      <td>main/LagrangeLeapFrog/LagrangeNodal/CalcForceF...</td>\n",
       "    </tr>\n",
       "  </tbody>\n",
       "</table>\n",
       "</div>"
      ],
      "text/plain": [
       "    aggregate.sum#time.inclusive.duration  \\\n",
       "0                                   30854   \n",
       "1                                   18165   \n",
       "2                                    1552   \n",
       "3                                  191531   \n",
       "4                                     524   \n",
       "5                                   18368   \n",
       "6                                   14311   \n",
       "7                                   13043   \n",
       "8                                    5652   \n",
       "9                                   22407   \n",
       "10                                   4786   \n",
       "11                                   7884   \n",
       "12                                   7682   \n",
       "13                                 538854   \n",
       "14                                 149728   \n",
       "15                                 147426   \n",
       "16                                 513105   \n",
       "17                                 114865   \n",
       "18                                    116   \n",
       "19                                  57087   \n",
       "20                                   3640   \n",
       "21                                 512655   \n",
       "22                                 307703   \n",
       "23                                 303477   \n",
       "24                                  45084   \n",
       "25                                  12896   \n",
       "\n",
       "                                             function  \n",
       "0   main/LagrangeLeapFrog/LagrangeNodal/CalcForceF...  \n",
       "1   main/LagrangeLeapFrog/LagrangeNodal/CalcForceF...  \n",
       "2   main/LagrangeLeapFrog/LagrangeNodal/CalcVeloci...  \n",
       "3              main/LagrangeLeapFrog/LagrangeElements  \n",
       "4   main/LagrangeLeapFrog/LagrangeElements/UpdateV...  \n",
       "5   main/LagrangeLeapFrog/LagrangeElements/CalcLag...  \n",
       "6   main/LagrangeLeapFrog/LagrangeElements/CalcLag...  \n",
       "7   main/LagrangeLeapFrog/CalcTimeConstraintsForElems  \n",
       "8   main/LagrangeLeapFrog/CalcTimeConstraintsForEl...  \n",
       "9   main/LagrangeLeapFrog/LagrangeElements/CalcQFo...  \n",
       "10  main/LagrangeLeapFrog/CalcTimeConstraintsForEl...  \n",
       "11  main/LagrangeLeapFrog/LagrangeElements/CalcQFo...  \n",
       "12  main/LagrangeLeapFrog/LagrangeElements/CalcQFo...  \n",
       "13                                               main  \n",
       "14  main/LagrangeLeapFrog/LagrangeElements/ApplyMa...  \n",
       "15  main/LagrangeLeapFrog/LagrangeElements/ApplyMa...  \n",
       "16                                               main  \n",
       "17  main/LagrangeLeapFrog/LagrangeElements/ApplyMa...  \n",
       "18                                 main/TimeIncrement  \n",
       "19  main/LagrangeLeapFrog/LagrangeElements/ApplyMa...  \n",
       "20  main/LagrangeLeapFrog/LagrangeElements/ApplyMa...  \n",
       "21                              main/LagrangeLeapFrog  \n",
       "22                main/LagrangeLeapFrog/LagrangeNodal  \n",
       "23  main/LagrangeLeapFrog/LagrangeNodal/CalcForceF...  \n",
       "24  main/LagrangeLeapFrog/LagrangeNodal/CalcForceF...  \n",
       "25  main/LagrangeLeapFrog/LagrangeNodal/CalcForceF...  "
      ]
     },
     "execution_count": 5,
     "metadata": {},
     "output_type": "execute_result"
    }
   ],
   "source": [
    "lulesh_frame = cali.CaliperFrame(\"SELECT aggregate.sum#time.inclusive.duration,function\",\"/Users/poliakoff1/lulesh-agg*.cali\")\n",
    "dataframe = lulesh_frame.results\n",
    "print(lulesh_frame.attributes)\n",
    "dataframe"
   ]
  },
  {
   "cell_type": "code",
   "execution_count": 6,
   "metadata": {},
   "outputs": [
    {
     "name": "stdout",
     "output_type": "stream",
     "text": [
      "Establishing value of 538854 for node main\n",
      "Establishing value of 512655 for node main/LagrangeLeapFrog\n",
      "Establishing value of 116 for node main/TimeIncrement\n",
      "Establishing value of 13043 for node main/LagrangeLeapFrog/CalcTimeConstraintsForElems\n",
      "Establishing value of 191531 for node main/LagrangeLeapFrog/LagrangeElements\n",
      "Establishing value of 307703 for node main/LagrangeLeapFrog/LagrangeNodal\n",
      "Establishing value of 5652 for node main/LagrangeLeapFrog/CalcTimeConstraintsForElems/CalcCourantConstraintForElems\n",
      "Establishing value of 4786 for node main/LagrangeLeapFrog/CalcTimeConstraintsForElems/CalcHydroConstraintForElems\n",
      "Establishing value of 149728 for node main/LagrangeLeapFrog/LagrangeElements/ApplyMaterialPropertiesForElems\n",
      "Establishing value of 18368 for node main/LagrangeLeapFrog/LagrangeElements/CalcLagrangeElements\n",
      "Establishing value of 22407 for node main/LagrangeLeapFrog/LagrangeElements/CalcQForElems\n",
      "Establishing value of 524 for node main/LagrangeLeapFrog/LagrangeElements/UpdateVolumesForElems\n",
      "Establishing value of 303477 for node main/LagrangeLeapFrog/LagrangeNodal/CalcForceForNodes\n",
      "Establishing value of 1552 for node main/LagrangeLeapFrog/LagrangeNodal/CalcVelocityForNodes\n",
      "Establishing value of 147426 for node main/LagrangeLeapFrog/LagrangeElements/ApplyMaterialPropertiesForElems/EvalEOSForElems\n",
      "Establishing value of 14311 for node main/LagrangeLeapFrog/LagrangeElements/CalcLagrangeElements/CalcKinematicsForElems\n",
      "Establishing value of 7884 for node main/LagrangeLeapFrog/LagrangeElements/CalcQForElems/CalcMonotonicQGradientsForElems\n",
      "Establishing value of 7682 for node main/LagrangeLeapFrog/LagrangeElements/CalcQForElems/CalcMonotonicQRegionForElems\n",
      "Establishing value of 45084 for node main/LagrangeLeapFrog/LagrangeNodal/CalcForceForNodes/CalcVolumeForceForElems\n",
      "Establishing value of 114865 for node main/LagrangeLeapFrog/LagrangeElements/ApplyMaterialPropertiesForElems/EvalEOSForElems/CalcEnergyForElems\n",
      "Establishing value of 3640 for node main/LagrangeLeapFrog/LagrangeElements/ApplyMaterialPropertiesForElems/EvalEOSForElems/CalcSoundSpeedForElems\n",
      "Establishing value of 30854 for node main/LagrangeLeapFrog/LagrangeNodal/CalcForceForNodes/CalcVolumeForceForElems/CalcHourglassControlForElems\n",
      "Establishing value of 12896 for node main/LagrangeLeapFrog/LagrangeNodal/CalcForceForNodes/CalcVolumeForceForElems/IntegrateStressForElems\n",
      "Establishing value of 57087 for node main/LagrangeLeapFrog/LagrangeElements/ApplyMaterialPropertiesForElems/EvalEOSForElems/CalcEnergyForElems/CalcPressureForElems\n",
      "Establishing value of 18165 for node main/LagrangeLeapFrog/LagrangeNodal/CalcForceForNodes/CalcVolumeForceForElems/CalcHourglassControlForElems/CalcFBHourglassForceForElems\n"
     ]
    }
   ],
   "source": [
    "sankeys=cali.get_sankey(lulesh_frame,\"function\",[\"aggregate.sum#time.inclusive.duration\"],False)"
   ]
  },
  {
   "cell_type": "code",
   "execution_count": 7,
   "metadata": {},
   "outputs": [
    {
     "data": {
      "application/vnd.plotly.v1+json": {
       "data": [
        {
         "domain": {
          "x": [
           0,
           1
          ],
          "y": [
           0,
           1
          ]
         },
         "link": {
          "label": [
           "main/LagrangeLeapFrog",
           "main/TimeIncrement",
           "main/LagrangeLeapFrog/CalcTimeConstraintsForElems",
           "main/LagrangeLeapFrog/LagrangeElements",
           "main/LagrangeLeapFrog/LagrangeNodal",
           "main/LagrangeLeapFrog/CalcTimeConstraintsForElems/CalcCourantConstraintForElems",
           "main/LagrangeLeapFrog/CalcTimeConstraintsForElems/CalcHydroConstraintForElems",
           "main/LagrangeLeapFrog/LagrangeElements/ApplyMaterialPropertiesForElems",
           "main/LagrangeLeapFrog/LagrangeElements/CalcLagrangeElements",
           "main/LagrangeLeapFrog/LagrangeElements/CalcQForElems",
           "main/LagrangeLeapFrog/LagrangeElements/UpdateVolumesForElems",
           "main/LagrangeLeapFrog/LagrangeNodal/CalcForceForNodes",
           "main/LagrangeLeapFrog/LagrangeNodal/CalcVelocityForNodes",
           "main/LagrangeLeapFrog/LagrangeElements/ApplyMaterialPropertiesForElems/EvalEOSForElems",
           "main/LagrangeLeapFrog/LagrangeElements/CalcLagrangeElements/CalcKinematicsForElems",
           "main/LagrangeLeapFrog/LagrangeElements/CalcQForElems/CalcMonotonicQGradientsForElems",
           "main/LagrangeLeapFrog/LagrangeElements/CalcQForElems/CalcMonotonicQRegionForElems",
           "main/LagrangeLeapFrog/LagrangeNodal/CalcForceForNodes/CalcVolumeForceForElems",
           "main/LagrangeLeapFrog/LagrangeElements/ApplyMaterialPropertiesForElems/EvalEOSForElems/CalcEnergyForElems",
           "main/LagrangeLeapFrog/LagrangeElements/ApplyMaterialPropertiesForElems/EvalEOSForElems/CalcSoundSpeedForElems",
           "main/LagrangeLeapFrog/LagrangeNodal/CalcForceForNodes/CalcVolumeForceForElems/CalcHourglassControlForElems",
           "main/LagrangeLeapFrog/LagrangeNodal/CalcForceForNodes/CalcVolumeForceForElems/IntegrateStressForElems",
           "main/LagrangeLeapFrog/LagrangeElements/ApplyMaterialPropertiesForElems/EvalEOSForElems/CalcEnergyForElems/CalcPressureForElems",
           "main/LagrangeLeapFrog/LagrangeNodal/CalcForceForNodes/CalcVolumeForceForElems/CalcHourglassControlForElems/CalcFBHourglassForceForElems"
          ],
          "source": [
           0,
           0,
           1,
           1,
           1,
           3,
           3,
           4,
           4,
           4,
           4,
           5,
           5,
           8,
           9,
           10,
           10,
           12,
           14,
           14,
           18,
           18,
           19,
           21
          ],
          "target": [
           1,
           2,
           3,
           4,
           5,
           6,
           7,
           8,
           9,
           10,
           11,
           12,
           13,
           14,
           15,
           16,
           17,
           18,
           19,
           20,
           21,
           22,
           23,
           24
          ],
          "value": [
           512655,
           116,
           13043,
           191531,
           307703,
           5652,
           4786,
           149728,
           18368,
           22407,
           524,
           303477,
           1552,
           147426,
           14311,
           7884,
           7682,
           45084,
           114865,
           3640,
           30854,
           12896,
           57087,
           18165
          ]
         },
         "node": {
          "color": [
           "rgba(256,0,0,0.5)",
           "rgba(243,12,0,0.5)",
           "rgba(0,255,0,0.5)",
           "rgba(6,249,0,0.5)",
           "rgba(90,165,0,0.5)",
           "rgba(146,109,0,0.5)",
           "rgba(2,253,0,0.5)",
           "rgba(2,253,0,0.5)",
           "rgba(71,184,0,0.5)",
           "rgba(8,247,0,0.5)",
           "rgba(10,245,0,0.5)",
           "rgba(0,255,0,0.5)",
           "rgba(144,111,0,0.5)",
           "rgba(0,255,0,0.5)",
           "rgba(70,185,0,0.5)",
           "rgba(6,249,0,0.5)",
           "rgba(3,252,0,0.5)",
           "rgba(3,252,0,0.5)",
           "rgba(21,234,0,0.5)",
           "rgba(54,201,0,0.5)",
           "rgba(1,254,0,0.5)",
           "rgba(14,241,0,0.5)",
           "rgba(6,249,0,0.5)",
           "rgba(27,228,0,0.5)",
           "rgba(8,247,0,0.5)"
          ],
          "label": [
           "main",
           "LagrangeLeapFrog",
           "TimeIncrement",
           "CalcTimeConstraintsForElems",
           "LagrangeElements",
           "LagrangeNodal",
           "CalcCourantConstraintForElems",
           "CalcHydroConstraintForElems",
           "ApplyMaterialPropertiesForElems",
           "CalcLagrangeElements",
           "CalcQForElems",
           "UpdateVolumesForElems",
           "CalcForceForNodes",
           "CalcVelocityForNodes",
           "EvalEOSForElems",
           "CalcKinematicsForElems",
           "CalcMonotonicQGradientsForElems",
           "CalcMonotonicQRegionForElems",
           "CalcVolumeForceForElems",
           "CalcEnergyForElems",
           "CalcSoundSpeedForElems",
           "CalcHourglassControlForElems",
           "IntegrateStressForElems",
           "CalcPressureForElems",
           "CalcFBHourglassForceForElems"
          ],
          "line": {
           "color": "black",
           "width": 0.5
          },
          "pad": 15,
          "thickness": 15
         },
         "orientation": "h",
         "type": "sankey",
         "valueformat": ".0f",
         "valuesuffix": ""
        }
       ],
       "layout": {
        "font": {
         "size": 10
        },
        "title": "aggregate.sum#time.inclusive.duration"
       }
      },
      "text/html": [
       "<div id=\"33a606a3-6982-4610-ba3b-8a5e55b4148a\" style=\"height: 525px; width: 100%;\" class=\"plotly-graph-div\"></div><script type=\"text/javascript\">require([\"plotly\"], function(Plotly) { window.PLOTLYENV=window.PLOTLYENV || {};window.PLOTLYENV.BASE_URL=\"https://plot.ly\";Plotly.newPlot(\"33a606a3-6982-4610-ba3b-8a5e55b4148a\", [{\"node\": {\"color\": [\"rgba(256,0,0,0.5)\", \"rgba(243,12,0,0.5)\", \"rgba(0,255,0,0.5)\", \"rgba(6,249,0,0.5)\", \"rgba(90,165,0,0.5)\", \"rgba(146,109,0,0.5)\", \"rgba(2,253,0,0.5)\", \"rgba(2,253,0,0.5)\", \"rgba(71,184,0,0.5)\", \"rgba(8,247,0,0.5)\", \"rgba(10,245,0,0.5)\", \"rgba(0,255,0,0.5)\", \"rgba(144,111,0,0.5)\", \"rgba(0,255,0,0.5)\", \"rgba(70,185,0,0.5)\", \"rgba(6,249,0,0.5)\", \"rgba(3,252,0,0.5)\", \"rgba(3,252,0,0.5)\", \"rgba(21,234,0,0.5)\", \"rgba(54,201,0,0.5)\", \"rgba(1,254,0,0.5)\", \"rgba(14,241,0,0.5)\", \"rgba(6,249,0,0.5)\", \"rgba(27,228,0,0.5)\", \"rgba(8,247,0,0.5)\"], \"line\": {\"color\": \"black\", \"width\": 0.5}, \"thickness\": 15, \"pad\": 15, \"label\": [\"main\", \"LagrangeLeapFrog\", \"TimeIncrement\", \"CalcTimeConstraintsForElems\", \"LagrangeElements\", \"LagrangeNodal\", \"CalcCourantConstraintForElems\", \"CalcHydroConstraintForElems\", \"ApplyMaterialPropertiesForElems\", \"CalcLagrangeElements\", \"CalcQForElems\", \"UpdateVolumesForElems\", \"CalcForceForNodes\", \"CalcVelocityForNodes\", \"EvalEOSForElems\", \"CalcKinematicsForElems\", \"CalcMonotonicQGradientsForElems\", \"CalcMonotonicQRegionForElems\", \"CalcVolumeForceForElems\", \"CalcEnergyForElems\", \"CalcSoundSpeedForElems\", \"CalcHourglassControlForElems\", \"IntegrateStressForElems\", \"CalcPressureForElems\", \"CalcFBHourglassForceForElems\"]}, \"valueformat\": \".0f\", \"domain\": {\"y\": [0, 1], \"x\": [0, 1]}, \"orientation\": \"h\", \"valuesuffix\": \"\", \"link\": {\"source\": [0, 0, 1, 1, 1, 3, 3, 4, 4, 4, 4, 5, 5, 8, 9, 10, 10, 12, 14, 14, 18, 18, 19, 21], \"target\": [1, 2, 3, 4, 5, 6, 7, 8, 9, 10, 11, 12, 13, 14, 15, 16, 17, 18, 19, 20, 21, 22, 23, 24], \"value\": [512655, 116, 13043, 191531, 307703, 5652, 4786, 149728, 18368, 22407, 524, 303477, 1552, 147426, 14311, 7884, 7682, 45084, 114865, 3640, 30854, 12896, 57087, 18165], \"label\": [\"main/LagrangeLeapFrog\", \"main/TimeIncrement\", \"main/LagrangeLeapFrog/CalcTimeConstraintsForElems\", \"main/LagrangeLeapFrog/LagrangeElements\", \"main/LagrangeLeapFrog/LagrangeNodal\", \"main/LagrangeLeapFrog/CalcTimeConstraintsForElems/CalcCourantConstraintForElems\", \"main/LagrangeLeapFrog/CalcTimeConstraintsForElems/CalcHydroConstraintForElems\", \"main/LagrangeLeapFrog/LagrangeElements/ApplyMaterialPropertiesForElems\", \"main/LagrangeLeapFrog/LagrangeElements/CalcLagrangeElements\", \"main/LagrangeLeapFrog/LagrangeElements/CalcQForElems\", \"main/LagrangeLeapFrog/LagrangeElements/UpdateVolumesForElems\", \"main/LagrangeLeapFrog/LagrangeNodal/CalcForceForNodes\", \"main/LagrangeLeapFrog/LagrangeNodal/CalcVelocityForNodes\", \"main/LagrangeLeapFrog/LagrangeElements/ApplyMaterialPropertiesForElems/EvalEOSForElems\", \"main/LagrangeLeapFrog/LagrangeElements/CalcLagrangeElements/CalcKinematicsForElems\", \"main/LagrangeLeapFrog/LagrangeElements/CalcQForElems/CalcMonotonicQGradientsForElems\", \"main/LagrangeLeapFrog/LagrangeElements/CalcQForElems/CalcMonotonicQRegionForElems\", \"main/LagrangeLeapFrog/LagrangeNodal/CalcForceForNodes/CalcVolumeForceForElems\", \"main/LagrangeLeapFrog/LagrangeElements/ApplyMaterialPropertiesForElems/EvalEOSForElems/CalcEnergyForElems\", \"main/LagrangeLeapFrog/LagrangeElements/ApplyMaterialPropertiesForElems/EvalEOSForElems/CalcSoundSpeedForElems\", \"main/LagrangeLeapFrog/LagrangeNodal/CalcForceForNodes/CalcVolumeForceForElems/CalcHourglassControlForElems\", \"main/LagrangeLeapFrog/LagrangeNodal/CalcForceForNodes/CalcVolumeForceForElems/IntegrateStressForElems\", \"main/LagrangeLeapFrog/LagrangeElements/ApplyMaterialPropertiesForElems/EvalEOSForElems/CalcEnergyForElems/CalcPressureForElems\", \"main/LagrangeLeapFrog/LagrangeNodal/CalcForceForNodes/CalcVolumeForceForElems/CalcHourglassControlForElems/CalcFBHourglassForceForElems\"]}, \"type\": \"sankey\"}], {\"font\": {\"size\": 10}, \"title\": \"aggregate.sum#time.inclusive.duration\"}, {\"linkText\": \"Export to plot.ly\", \"showLink\": true})});</script>"
      ],
      "text/vnd.plotly.v1+html": [
       "<div id=\"33a606a3-6982-4610-ba3b-8a5e55b4148a\" style=\"height: 525px; width: 100%;\" class=\"plotly-graph-div\"></div><script type=\"text/javascript\">require([\"plotly\"], function(Plotly) { window.PLOTLYENV=window.PLOTLYENV || {};window.PLOTLYENV.BASE_URL=\"https://plot.ly\";Plotly.newPlot(\"33a606a3-6982-4610-ba3b-8a5e55b4148a\", [{\"node\": {\"color\": [\"rgba(256,0,0,0.5)\", \"rgba(243,12,0,0.5)\", \"rgba(0,255,0,0.5)\", \"rgba(6,249,0,0.5)\", \"rgba(90,165,0,0.5)\", \"rgba(146,109,0,0.5)\", \"rgba(2,253,0,0.5)\", \"rgba(2,253,0,0.5)\", \"rgba(71,184,0,0.5)\", \"rgba(8,247,0,0.5)\", \"rgba(10,245,0,0.5)\", \"rgba(0,255,0,0.5)\", \"rgba(144,111,0,0.5)\", \"rgba(0,255,0,0.5)\", \"rgba(70,185,0,0.5)\", \"rgba(6,249,0,0.5)\", \"rgba(3,252,0,0.5)\", \"rgba(3,252,0,0.5)\", \"rgba(21,234,0,0.5)\", \"rgba(54,201,0,0.5)\", \"rgba(1,254,0,0.5)\", \"rgba(14,241,0,0.5)\", \"rgba(6,249,0,0.5)\", \"rgba(27,228,0,0.5)\", \"rgba(8,247,0,0.5)\"], \"line\": {\"color\": \"black\", \"width\": 0.5}, \"thickness\": 15, \"pad\": 15, \"label\": [\"main\", \"LagrangeLeapFrog\", \"TimeIncrement\", \"CalcTimeConstraintsForElems\", \"LagrangeElements\", \"LagrangeNodal\", \"CalcCourantConstraintForElems\", \"CalcHydroConstraintForElems\", \"ApplyMaterialPropertiesForElems\", \"CalcLagrangeElements\", \"CalcQForElems\", \"UpdateVolumesForElems\", \"CalcForceForNodes\", \"CalcVelocityForNodes\", \"EvalEOSForElems\", \"CalcKinematicsForElems\", \"CalcMonotonicQGradientsForElems\", \"CalcMonotonicQRegionForElems\", \"CalcVolumeForceForElems\", \"CalcEnergyForElems\", \"CalcSoundSpeedForElems\", \"CalcHourglassControlForElems\", \"IntegrateStressForElems\", \"CalcPressureForElems\", \"CalcFBHourglassForceForElems\"]}, \"valueformat\": \".0f\", \"domain\": {\"y\": [0, 1], \"x\": [0, 1]}, \"orientation\": \"h\", \"valuesuffix\": \"\", \"link\": {\"source\": [0, 0, 1, 1, 1, 3, 3, 4, 4, 4, 4, 5, 5, 8, 9, 10, 10, 12, 14, 14, 18, 18, 19, 21], \"target\": [1, 2, 3, 4, 5, 6, 7, 8, 9, 10, 11, 12, 13, 14, 15, 16, 17, 18, 19, 20, 21, 22, 23, 24], \"value\": [512655, 116, 13043, 191531, 307703, 5652, 4786, 149728, 18368, 22407, 524, 303477, 1552, 147426, 14311, 7884, 7682, 45084, 114865, 3640, 30854, 12896, 57087, 18165], \"label\": [\"main/LagrangeLeapFrog\", \"main/TimeIncrement\", \"main/LagrangeLeapFrog/CalcTimeConstraintsForElems\", \"main/LagrangeLeapFrog/LagrangeElements\", \"main/LagrangeLeapFrog/LagrangeNodal\", \"main/LagrangeLeapFrog/CalcTimeConstraintsForElems/CalcCourantConstraintForElems\", \"main/LagrangeLeapFrog/CalcTimeConstraintsForElems/CalcHydroConstraintForElems\", \"main/LagrangeLeapFrog/LagrangeElements/ApplyMaterialPropertiesForElems\", \"main/LagrangeLeapFrog/LagrangeElements/CalcLagrangeElements\", \"main/LagrangeLeapFrog/LagrangeElements/CalcQForElems\", \"main/LagrangeLeapFrog/LagrangeElements/UpdateVolumesForElems\", \"main/LagrangeLeapFrog/LagrangeNodal/CalcForceForNodes\", \"main/LagrangeLeapFrog/LagrangeNodal/CalcVelocityForNodes\", \"main/LagrangeLeapFrog/LagrangeElements/ApplyMaterialPropertiesForElems/EvalEOSForElems\", \"main/LagrangeLeapFrog/LagrangeElements/CalcLagrangeElements/CalcKinematicsForElems\", \"main/LagrangeLeapFrog/LagrangeElements/CalcQForElems/CalcMonotonicQGradientsForElems\", \"main/LagrangeLeapFrog/LagrangeElements/CalcQForElems/CalcMonotonicQRegionForElems\", \"main/LagrangeLeapFrog/LagrangeNodal/CalcForceForNodes/CalcVolumeForceForElems\", \"main/LagrangeLeapFrog/LagrangeElements/ApplyMaterialPropertiesForElems/EvalEOSForElems/CalcEnergyForElems\", \"main/LagrangeLeapFrog/LagrangeElements/ApplyMaterialPropertiesForElems/EvalEOSForElems/CalcSoundSpeedForElems\", \"main/LagrangeLeapFrog/LagrangeNodal/CalcForceForNodes/CalcVolumeForceForElems/CalcHourglassControlForElems\", \"main/LagrangeLeapFrog/LagrangeNodal/CalcForceForNodes/CalcVolumeForceForElems/IntegrateStressForElems\", \"main/LagrangeLeapFrog/LagrangeElements/ApplyMaterialPropertiesForElems/EvalEOSForElems/CalcEnergyForElems/CalcPressureForElems\", \"main/LagrangeLeapFrog/LagrangeNodal/CalcForceForNodes/CalcVolumeForceForElems/CalcHourglassControlForElems/CalcFBHourglassForceForElems\"]}, \"type\": \"sankey\"}], {\"font\": {\"size\": 10}, \"title\": \"aggregate.sum#time.inclusive.duration\"}, {\"linkText\": \"Export to plot.ly\", \"showLink\": true})});</script>"
      ]
     },
     "metadata": {},
     "output_type": "display_data"
    }
   ],
   "source": [
    "iplot(sankeys[\"aggregate.sum#time.inclusive.duration\"])"
   ]
  },
  {
   "cell_type": "code",
   "execution_count": 8,
   "metadata": {
    "collapsed": true
   },
   "outputs": [],
   "source": [
    "df = lulesh_frame.results"
   ]
  },
  {
   "cell_type": "code",
   "execution_count": 9,
   "metadata": {},
   "outputs": [
    {
     "name": "stdout",
     "output_type": "stream",
     "text": [
      "main\n"
     ]
    },
    {
     "ename": "KeyError",
     "evalue": "'time.inclusive.duration'",
     "output_type": "error",
     "traceback": [
      "\u001b[0;31m---------------------------------------------------------------------------\u001b[0m",
      "\u001b[0;31mKeyError\u001b[0m                                  Traceback (most recent call last)",
      "\u001b[0;32m<ipython-input-9-a080029fe24d>\u001b[0m in \u001b[0;36m<module>\u001b[0;34m()\u001b[0m\n\u001b[1;32m      1\u001b[0m \u001b[0;32mfor\u001b[0m \u001b[0mlabel\u001b[0m\u001b[0;34m,\u001b[0m \u001b[0mframe\u001b[0m \u001b[0;32min\u001b[0m \u001b[0mdf\u001b[0m\u001b[0;34m.\u001b[0m\u001b[0mgroupby\u001b[0m\u001b[0;34m(\u001b[0m\u001b[0;34m\"function\"\u001b[0m\u001b[0;34m)\u001b[0m\u001b[0;34m:\u001b[0m\u001b[0;34m\u001b[0m\u001b[0m\n\u001b[1;32m      2\u001b[0m     \u001b[0;32mprint\u001b[0m \u001b[0mlabel\u001b[0m\u001b[0;34m\u001b[0m\u001b[0m\n\u001b[0;32m----> 3\u001b[0;31m     \u001b[0;32mprint\u001b[0m \u001b[0mframe\u001b[0m\u001b[0;34m[\u001b[0m\u001b[0;34m\"time.inclusive.duration\"\u001b[0m\u001b[0;34m]\u001b[0m\u001b[0;34m.\u001b[0m\u001b[0mmax\u001b[0m\u001b[0;34m(\u001b[0m\u001b[0;34m)\u001b[0m\u001b[0;34m\u001b[0m\u001b[0m\n\u001b[0m",
      "\u001b[0;32m/Users/poliakoff1/anaconda2/lib/python2.7/site-packages/pandas/core/frame.pyc\u001b[0m in \u001b[0;36m__getitem__\u001b[0;34m(self, key)\u001b[0m\n\u001b[1;32m   2137\u001b[0m             \u001b[0;32mreturn\u001b[0m \u001b[0mself\u001b[0m\u001b[0;34m.\u001b[0m\u001b[0m_getitem_multilevel\u001b[0m\u001b[0;34m(\u001b[0m\u001b[0mkey\u001b[0m\u001b[0;34m)\u001b[0m\u001b[0;34m\u001b[0m\u001b[0m\n\u001b[1;32m   2138\u001b[0m         \u001b[0;32melse\u001b[0m\u001b[0;34m:\u001b[0m\u001b[0;34m\u001b[0m\u001b[0m\n\u001b[0;32m-> 2139\u001b[0;31m             \u001b[0;32mreturn\u001b[0m \u001b[0mself\u001b[0m\u001b[0;34m.\u001b[0m\u001b[0m_getitem_column\u001b[0m\u001b[0;34m(\u001b[0m\u001b[0mkey\u001b[0m\u001b[0;34m)\u001b[0m\u001b[0;34m\u001b[0m\u001b[0m\n\u001b[0m\u001b[1;32m   2140\u001b[0m \u001b[0;34m\u001b[0m\u001b[0m\n\u001b[1;32m   2141\u001b[0m     \u001b[0;32mdef\u001b[0m \u001b[0m_getitem_column\u001b[0m\u001b[0;34m(\u001b[0m\u001b[0mself\u001b[0m\u001b[0;34m,\u001b[0m \u001b[0mkey\u001b[0m\u001b[0;34m)\u001b[0m\u001b[0;34m:\u001b[0m\u001b[0;34m\u001b[0m\u001b[0m\n",
      "\u001b[0;32m/Users/poliakoff1/anaconda2/lib/python2.7/site-packages/pandas/core/frame.pyc\u001b[0m in \u001b[0;36m_getitem_column\u001b[0;34m(self, key)\u001b[0m\n\u001b[1;32m   2144\u001b[0m         \u001b[0;31m# get column\u001b[0m\u001b[0;34m\u001b[0m\u001b[0;34m\u001b[0m\u001b[0m\n\u001b[1;32m   2145\u001b[0m         \u001b[0;32mif\u001b[0m \u001b[0mself\u001b[0m\u001b[0;34m.\u001b[0m\u001b[0mcolumns\u001b[0m\u001b[0;34m.\u001b[0m\u001b[0mis_unique\u001b[0m\u001b[0;34m:\u001b[0m\u001b[0;34m\u001b[0m\u001b[0m\n\u001b[0;32m-> 2146\u001b[0;31m             \u001b[0;32mreturn\u001b[0m \u001b[0mself\u001b[0m\u001b[0;34m.\u001b[0m\u001b[0m_get_item_cache\u001b[0m\u001b[0;34m(\u001b[0m\u001b[0mkey\u001b[0m\u001b[0;34m)\u001b[0m\u001b[0;34m\u001b[0m\u001b[0m\n\u001b[0m\u001b[1;32m   2147\u001b[0m \u001b[0;34m\u001b[0m\u001b[0m\n\u001b[1;32m   2148\u001b[0m         \u001b[0;31m# duplicate columns & possible reduce dimensionality\u001b[0m\u001b[0;34m\u001b[0m\u001b[0;34m\u001b[0m\u001b[0m\n",
      "\u001b[0;32m/Users/poliakoff1/anaconda2/lib/python2.7/site-packages/pandas/core/generic.pyc\u001b[0m in \u001b[0;36m_get_item_cache\u001b[0;34m(self, item)\u001b[0m\n\u001b[1;32m   1840\u001b[0m         \u001b[0mres\u001b[0m \u001b[0;34m=\u001b[0m \u001b[0mcache\u001b[0m\u001b[0;34m.\u001b[0m\u001b[0mget\u001b[0m\u001b[0;34m(\u001b[0m\u001b[0mitem\u001b[0m\u001b[0;34m)\u001b[0m\u001b[0;34m\u001b[0m\u001b[0m\n\u001b[1;32m   1841\u001b[0m         \u001b[0;32mif\u001b[0m \u001b[0mres\u001b[0m \u001b[0;32mis\u001b[0m \u001b[0mNone\u001b[0m\u001b[0;34m:\u001b[0m\u001b[0;34m\u001b[0m\u001b[0m\n\u001b[0;32m-> 1842\u001b[0;31m             \u001b[0mvalues\u001b[0m \u001b[0;34m=\u001b[0m \u001b[0mself\u001b[0m\u001b[0;34m.\u001b[0m\u001b[0m_data\u001b[0m\u001b[0;34m.\u001b[0m\u001b[0mget\u001b[0m\u001b[0;34m(\u001b[0m\u001b[0mitem\u001b[0m\u001b[0;34m)\u001b[0m\u001b[0;34m\u001b[0m\u001b[0m\n\u001b[0m\u001b[1;32m   1843\u001b[0m             \u001b[0mres\u001b[0m \u001b[0;34m=\u001b[0m \u001b[0mself\u001b[0m\u001b[0;34m.\u001b[0m\u001b[0m_box_item_values\u001b[0m\u001b[0;34m(\u001b[0m\u001b[0mitem\u001b[0m\u001b[0;34m,\u001b[0m \u001b[0mvalues\u001b[0m\u001b[0;34m)\u001b[0m\u001b[0;34m\u001b[0m\u001b[0m\n\u001b[1;32m   1844\u001b[0m             \u001b[0mcache\u001b[0m\u001b[0;34m[\u001b[0m\u001b[0mitem\u001b[0m\u001b[0;34m]\u001b[0m \u001b[0;34m=\u001b[0m \u001b[0mres\u001b[0m\u001b[0;34m\u001b[0m\u001b[0m\n",
      "\u001b[0;32m/Users/poliakoff1/anaconda2/lib/python2.7/site-packages/pandas/core/internals.pyc\u001b[0m in \u001b[0;36mget\u001b[0;34m(self, item, fastpath)\u001b[0m\n\u001b[1;32m   3836\u001b[0m \u001b[0;34m\u001b[0m\u001b[0m\n\u001b[1;32m   3837\u001b[0m             \u001b[0;32mif\u001b[0m \u001b[0;32mnot\u001b[0m \u001b[0misna\u001b[0m\u001b[0;34m(\u001b[0m\u001b[0mitem\u001b[0m\u001b[0;34m)\u001b[0m\u001b[0;34m:\u001b[0m\u001b[0;34m\u001b[0m\u001b[0m\n\u001b[0;32m-> 3838\u001b[0;31m                 \u001b[0mloc\u001b[0m \u001b[0;34m=\u001b[0m \u001b[0mself\u001b[0m\u001b[0;34m.\u001b[0m\u001b[0mitems\u001b[0m\u001b[0;34m.\u001b[0m\u001b[0mget_loc\u001b[0m\u001b[0;34m(\u001b[0m\u001b[0mitem\u001b[0m\u001b[0;34m)\u001b[0m\u001b[0;34m\u001b[0m\u001b[0m\n\u001b[0m\u001b[1;32m   3839\u001b[0m             \u001b[0;32melse\u001b[0m\u001b[0;34m:\u001b[0m\u001b[0;34m\u001b[0m\u001b[0m\n\u001b[1;32m   3840\u001b[0m                 \u001b[0mindexer\u001b[0m \u001b[0;34m=\u001b[0m \u001b[0mnp\u001b[0m\u001b[0;34m.\u001b[0m\u001b[0marange\u001b[0m\u001b[0;34m(\u001b[0m\u001b[0mlen\u001b[0m\u001b[0;34m(\u001b[0m\u001b[0mself\u001b[0m\u001b[0;34m.\u001b[0m\u001b[0mitems\u001b[0m\u001b[0;34m)\u001b[0m\u001b[0;34m)\u001b[0m\u001b[0;34m[\u001b[0m\u001b[0misna\u001b[0m\u001b[0;34m(\u001b[0m\u001b[0mself\u001b[0m\u001b[0;34m.\u001b[0m\u001b[0mitems\u001b[0m\u001b[0;34m)\u001b[0m\u001b[0;34m]\u001b[0m\u001b[0;34m\u001b[0m\u001b[0m\n",
      "\u001b[0;32m/Users/poliakoff1/anaconda2/lib/python2.7/site-packages/pandas/core/indexes/base.pyc\u001b[0m in \u001b[0;36mget_loc\u001b[0;34m(self, key, method, tolerance)\u001b[0m\n\u001b[1;32m   2522\u001b[0m                 \u001b[0;32mreturn\u001b[0m \u001b[0mself\u001b[0m\u001b[0;34m.\u001b[0m\u001b[0m_engine\u001b[0m\u001b[0;34m.\u001b[0m\u001b[0mget_loc\u001b[0m\u001b[0;34m(\u001b[0m\u001b[0mkey\u001b[0m\u001b[0;34m)\u001b[0m\u001b[0;34m\u001b[0m\u001b[0m\n\u001b[1;32m   2523\u001b[0m             \u001b[0;32mexcept\u001b[0m \u001b[0mKeyError\u001b[0m\u001b[0;34m:\u001b[0m\u001b[0;34m\u001b[0m\u001b[0m\n\u001b[0;32m-> 2524\u001b[0;31m                 \u001b[0;32mreturn\u001b[0m \u001b[0mself\u001b[0m\u001b[0;34m.\u001b[0m\u001b[0m_engine\u001b[0m\u001b[0;34m.\u001b[0m\u001b[0mget_loc\u001b[0m\u001b[0;34m(\u001b[0m\u001b[0mself\u001b[0m\u001b[0;34m.\u001b[0m\u001b[0m_maybe_cast_indexer\u001b[0m\u001b[0;34m(\u001b[0m\u001b[0mkey\u001b[0m\u001b[0;34m)\u001b[0m\u001b[0;34m)\u001b[0m\u001b[0;34m\u001b[0m\u001b[0m\n\u001b[0m\u001b[1;32m   2525\u001b[0m \u001b[0;34m\u001b[0m\u001b[0m\n\u001b[1;32m   2526\u001b[0m         \u001b[0mindexer\u001b[0m \u001b[0;34m=\u001b[0m \u001b[0mself\u001b[0m\u001b[0;34m.\u001b[0m\u001b[0mget_indexer\u001b[0m\u001b[0;34m(\u001b[0m\u001b[0;34m[\u001b[0m\u001b[0mkey\u001b[0m\u001b[0;34m]\u001b[0m\u001b[0;34m,\u001b[0m \u001b[0mmethod\u001b[0m\u001b[0;34m=\u001b[0m\u001b[0mmethod\u001b[0m\u001b[0;34m,\u001b[0m \u001b[0mtolerance\u001b[0m\u001b[0;34m=\u001b[0m\u001b[0mtolerance\u001b[0m\u001b[0;34m)\u001b[0m\u001b[0;34m\u001b[0m\u001b[0m\n",
      "\u001b[0;32mpandas/_libs/index.pyx\u001b[0m in \u001b[0;36mpandas._libs.index.IndexEngine.get_loc\u001b[0;34m()\u001b[0m\n",
      "\u001b[0;32mpandas/_libs/index.pyx\u001b[0m in \u001b[0;36mpandas._libs.index.IndexEngine.get_loc\u001b[0;34m()\u001b[0m\n",
      "\u001b[0;32mpandas/_libs/hashtable_class_helper.pxi\u001b[0m in \u001b[0;36mpandas._libs.hashtable.PyObjectHashTable.get_item\u001b[0;34m()\u001b[0m\n",
      "\u001b[0;32mpandas/_libs/hashtable_class_helper.pxi\u001b[0m in \u001b[0;36mpandas._libs.hashtable.PyObjectHashTable.get_item\u001b[0;34m()\u001b[0m\n",
      "\u001b[0;31mKeyError\u001b[0m: 'time.inclusive.duration'"
     ]
    }
   ],
   "source": [
    "for label, frame in df.groupby(\"function\"):\n",
    "    print label\n",
    "    print frame[\"time.inclusive.duration\"].max()"
   ]
  },
  {
   "cell_type": "code",
   "execution_count": null,
   "metadata": {
    "collapsed": true
   },
   "outputs": [],
   "source": [
    "dataframe[dataframe[\"function\"]==\"main/LagrangeLeapFrog\"]"
   ]
  },
  {
   "cell_type": "code",
   "execution_count": null,
   "metadata": {
    "collapsed": true
   },
   "outputs": [],
   "source": []
  }
 ],
 "metadata": {
  "kernelspec": {
   "display_name": "Python 2",
   "language": "python",
   "name": "python2"
  },
  "language_info": {
   "codemirror_mode": {
    "name": "ipython",
    "version": 2
   },
   "file_extension": ".py",
   "mimetype": "text/x-python",
   "name": "python",
   "nbconvert_exporter": "python",
   "pygments_lexer": "ipython2",
   "version": "2.7.14"
  }
 },
 "nbformat": 4,
 "nbformat_minor": 2
}
